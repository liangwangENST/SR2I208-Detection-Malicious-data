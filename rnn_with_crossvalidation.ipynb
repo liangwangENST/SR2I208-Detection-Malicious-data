{
 "cells": [
  {
   "cell_type": "code",
   "execution_count": 28,
   "metadata": {},
   "outputs": [],
   "source": [
    "import pandas as pd \n",
    "import matplotlib.pyplot as plt \n",
    "from mpl_toolkits.mplot3d import Axes3D\n",
    "import numpy as np\n",
    "from sklearn.model_selection import train_test_split\n",
    "import matplotlib.pyplot as plt "
   ]
  },
  {
   "cell_type": "code",
   "execution_count": 29,
   "metadata": {},
   "outputs": [
    {
     "data": {
      "text/plain": [
       "(97118, 19)"
      ]
     },
     "execution_count": 29,
     "metadata": {},
     "output_type": "execute_result"
    }
   ],
   "source": [
    "data = pd.read_csv(\"dataset/attack1withlabels_7feature.csv\")\n",
    "#data = data.dropna(axis=0, how=\"any\")#remove invalid data\n",
    "data = data.dropna(axis=0, how=\"any\")#remove invalid data\n",
    "data.shape"
   ]
  },
  {
   "cell_type": "code",
   "execution_count": 30,
   "metadata": {},
   "outputs": [],
   "source": [
    "\n",
    "X = data.iloc[:,12:18] #In our case, we use the feature of 1-6, the feature of distance rejected\n",
    "y = data.iloc[:,11]\n"
   ]
  },
  {
   "cell_type": "code",
   "execution_count": 31,
   "metadata": {},
   "outputs": [],
   "source": [
    "from tensorflow.python.keras import backend as k\n",
    "from keras.models import Sequential\n",
    "from keras.layers import Dense,Activation\n",
    "from keras.layers.recurrent import LSTM\n",
    "import tensorflow\n",
    "from sklearn import model_selection\n"
   ]
  },
  {
   "cell_type": "code",
   "execution_count": 51,
   "metadata": {},
   "outputs": [
    {
     "name": "stdout",
     "output_type": "stream",
     "text": [
      "-------------------------------------------------------------------------\n",
      "The number of iteration is :  0\n",
      "19424/19424 [==============================] - 5s 246us/step\n",
      "-------------------------------------------------------------------------\n",
      "The number of iteration is :  1\n",
      "19424/19424 [==============================] - 5s 256us/step\n",
      "-------------------------------------------------------------------------\n",
      "The number of iteration is :  2\n",
      "19424/19424 [==============================] - 5s 254us/step\n",
      "-------------------------------------------------------------------------\n",
      "The number of iteration is :  3\n",
      "19424/19424 [==============================] - 5s 259us/step\n",
      "-------------------------------------------------------------------------\n",
      "The number of iteration is :  4\n",
      "19424/19424 [==============================] - 5s 275us/step\n",
      "-------------------------------------------------------------------------\n",
      "The number of iteration is :  5\n",
      "19424/19424 [==============================] - 5s 268us/step\n",
      "-------------------------------------------------------------------------\n",
      "The number of iteration is :  6\n",
      "19424/19424 [==============================] - 6s 323us/step\n",
      "-------------------------------------------------------------------------\n",
      "The number of iteration is :  7\n",
      "19424/19424 [==============================] - 6s 285us/step\n",
      "-------------------------------------------------------------------------\n",
      "The number of iteration is :  8\n",
      "19424/19424 [==============================] - 6s 287us/step\n",
      "-------------------------------------------------------------------------\n",
      "The number of iteration is :  9\n",
      "19424/19424 [==============================] - 6s 294us/step\n",
      "-------------------------------------------------------------------------\n",
      "The number of iteration is :  10\n",
      "19424/19424 [==============================] - 6s 324us/step\n",
      "-------------------------------------------------------------------------\n",
      "The number of iteration is :  11\n",
      "19424/19424 [==============================] - 6s 329us/step\n",
      "-------------------------------------------------------------------------\n",
      "The number of iteration is :  12\n",
      "19424/19424 [==============================] - 6s 303us/step\n",
      "-------------------------------------------------------------------------\n",
      "The number of iteration is :  13\n",
      "19424/19424 [==============================] - 7s 339us/step\n",
      "-------------------------------------------------------------------------\n",
      "The number of iteration is :  14\n",
      "19424/19424 [==============================] - 7s 338us/step\n",
      "-------------------------------------------------------------------------\n",
      "The number of iteration is :  15\n",
      "19424/19424 [==============================] - 7s 341us/step\n",
      "-------------------------------------------------------------------------\n",
      "The number of iteration is :  16\n",
      "19424/19424 [==============================] - 6s 327us/step\n",
      "-------------------------------------------------------------------------\n",
      "The number of iteration is :  17\n",
      "19424/19424 [==============================] - 7s 337us/step\n",
      "-------------------------------------------------------------------------\n",
      "The number of iteration is :  18\n",
      "19424/19424 [==============================] - 7s 337us/step\n",
      "-------------------------------------------------------------------------\n",
      "The number of iteration is :  19\n",
      "19424/19424 [==============================] - 7s 347us/step\n",
      "-------------------------------------------------------------------------\n",
      "The number of iteration is :  20\n",
      "19424/19424 [==============================] - 7s 377us/step\n",
      "-------------------------------------------------------------------------\n",
      "The number of iteration is :  21\n",
      "19424/19424 [==============================] - 7s 343us/step\n",
      "-------------------------------------------------------------------------\n",
      "The number of iteration is :  22\n",
      "19424/19424 [==============================] - 7s 356us/step\n",
      "-------------------------------------------------------------------------\n",
      "The number of iteration is :  23\n",
      "19424/19424 [==============================] - 7s 376us/step\n",
      "-------------------------------------------------------------------------\n",
      "The number of iteration is :  24\n",
      "19424/19424 [==============================] - 7s 368us/step\n",
      "-------------------------------------------------------------------------\n",
      "The number of iteration is :  25\n",
      "19424/19424 [==============================] - 7s 374us/step\n",
      "-------------------------------------------------------------------------\n",
      "The number of iteration is :  26\n",
      "19424/19424 [==============================] - 7s 381us/step\n",
      "-------------------------------------------------------------------------\n",
      "The number of iteration is :  27\n",
      "19424/19424 [==============================] - 7s 384us/step\n",
      "-------------------------------------------------------------------------\n",
      "The number of iteration is :  28\n",
      "19424/19424 [==============================] - 7s 383us/step\n",
      "-------------------------------------------------------------------------\n",
      "The number of iteration is :  29\n",
      "19424/19424 [==============================] - 9s 448us/step\n"
     ]
    },
    {
     "data": {
      "image/png": "[encoded data removed]",
      "text/plain": [
       "<Figure size 432x288 with 1 Axes>"
      ]
     },
     "metadata": {
      "needs_background": "light"
     },
     "output_type": "display_data"
    }
   ],
   "source": [
    "accurency_list = []\n",
    "itr =30\n",
    "for i in range(itr):\n",
    "    # model implementation\n",
    "    print(\"-------------------------------------------------------------------------\")\n",
    "    print(\"The number of iteration is : \", i)\n",
    "    model = Sequential()\n",
    "    model.add(LSTM(32, input_shape=(None,6),return_sequences=False))\n",
    "    model.add(Dense(8, input_dim=6))\n",
    "    model.add(Dense(1, activation=\"relu\"))\n",
    "    model.compile(optimizer='adam', loss='binary_crossentropy', metrics=['accuracy'])\n",
    "    X_train, X_test, y_train, y_test = train_test_split( X, y, test_size=.2)\n",
    "    #to satisfait LSTM\n",
    "    X_train = np.reshape(X_train.values, (X_train.shape[0], 1,X_train.shape[1]))\n",
    "    X_test =np.reshape(X_test.values, (X_test.shape[0], 1, X_test.shape[1]))\n",
    "    #fit data\n",
    "    model.fit(X_train,y_train,verbose = 0,epochs=10,batch_size=1000)\n",
    "    #evaluation data\n",
    "    cost = model.evaluate(X_test,y_test)\n",
    "    #print('loss \\n',cost[0])\n",
    "    #print('accurency \\n',cost[1])\n",
    "    accurency_list.append(cost[1])\n",
    "plt.scatter(range(itr),accurency_list,label = 'Accurency of test set')\n",
    "plt.hlines(1-sum(y_test)/y_test.shape[0], 0, itr, colors = \"r\", linestyles = \"dashed\",label=\"The ratio of attack/all\")\n",
    "plt.legend(loc='best')\n",
    "plt.xlabel(\"iteration\")\n",
    "plt.ylabel(\"accurrency\")\n",
    "plt.show()\n"
   ]
  },
  {
   "cell_type": "code",
   "execution_count": null,
   "metadata": {},
   "outputs": [],
   "source": []
  },
  {
   "cell_type": "code",
   "execution_count": null,
   "metadata": {},
   "outputs": [],
   "source": []
  }
 ],
 "metadata": {
  "kernelspec": {
   "display_name": "Python 3",
   "language": "python",
   "name": "python3"
  },
  "language_info": {
   "codemirror_mode": {
    "name": "ipython",
    "version": 3
   },
   "file_extension": ".py",
   "mimetype": "text/x-python",
   "name": "python",
   "nbconvert_exporter": "python",
   "pygments_lexer": "ipython3",
   "version": "3.7.3"
  }
 },
 "nbformat": 4,
 "nbformat_minor": 2
}
