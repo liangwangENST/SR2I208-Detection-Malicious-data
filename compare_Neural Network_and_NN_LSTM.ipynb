{
 "cells": [
  {
   "cell_type": "markdown",
   "metadata": {},
   "source": [
    "# Compare Neural Network and NN_LSTM \n",
    "In this file, we will test Neural Network and RNN_LSTM with same training data and test data"
   ]
  },
  {
   "cell_type": "code",
   "execution_count": 13,
   "metadata": {},
   "outputs": [],
   "source": [
    "import pandas as pd \n",
    "import matplotlib.pyplot as plt \n",
    "import numpy as np\n",
    "\n",
    "from keras.models import Sequential\n",
    "\n",
    "from keras.layers import Dense,Activation\n",
    "from keras.layers.recurrent import LSTM\n",
    "\n",
    "from sklearn.model_selection import train_test_split\n",
    "from sklearn import model_selection"
   ]
  },
  {
   "cell_type": "markdown",
   "metadata": {},
   "source": [
    "## Attack 1"
   ]
  },
  {
   "cell_type": "markdown",
   "metadata": {},
   "source": [
    "## Choosing the Configuration"
   ]
  },
  {
   "cell_type": "code",
   "execution_count": 14,
   "metadata": {},
   "outputs": [],
   "source": [
    "data_attack1 = pd.read_csv(\"dataset/attack1with7FeatureVector.csv\")\n",
    "data_attack1 = data_attack1.dropna(axis=0, how=\"any\")#remove invalid data\n",
    "sum(np.array(data_attack1['Label']))/data_attack1['Label'].shape[0]/1\n",
    "\n",
    "data_attack1.shape\n",
    "\n",
    "X = data_attack1.iloc[:,12:] #In our case, we use the feature of 1-6, the feature of distance rejected\n",
    "n = X.shape[1]\n",
    "y = data_attack1.iloc[:,11]\n",
    "X = np.reshape(X.values, (X.shape[0], X.shape[1]))\n",
    "y =np.reshape(y.values, (y.shape[0],  1))"
   ]
  },
  {
   "cell_type": "code",
   "execution_count": 16,
   "metadata": {},
   "outputs": [],
   "source": [
    "activation_func = ['sigmoid','softmax', 'elu', 'selu', 'softplus', 'softsign', \n",
    "                   'relu', 'tanh', 'hard_sigmoid', 'linear']\n",
    "loss_func = ['binary_crossentropy', 'mean_squared_error', 'mean_absolute_error', 'mean_absolute_percentage_error',\n",
    "            'mean_squared_logarithmic_error', 'squared_hinge', 'hinge', 'logcosh', 'kullback_leibler_divergence', \n",
    "            'poisson', 'cosine_proximity']\n",
    "optimizer_scheme = ['Adagrad','SGD', 'RMSprop', 'Adadelta', 'Adam', 'Adamax', 'Nadam']"
   ]
  },
  {
   "cell_type": "code",
   "execution_count": 19,
   "metadata": {},
   "outputs": [],
   "source": [
    "def evaluate_model(y_predict, y_test):\n",
    "    count_ccr = 0\n",
    "    TP = 0\n",
    "    FP = 0\n",
    "    FN = 0\n",
    "    for i in range(len(y_test)):\n",
    "        if y_predict[i]==y_test[i]:\n",
    "            count_ccr+=1\n",
    "        if y_predict[i]==1 and y_test[i]==1:\n",
    "            TP+=1\n",
    "        if y_predict[i]==1 and y_test[i]==0:\n",
    "            FP+=1\n",
    "        if y_predict[i]==0 and y_test[i]==1:\n",
    "            FN+=1\n",
    "    ccr = count_ccr/len(y_test)\n",
    "    if (TP+FP)==0:\n",
    "        print('All the prediction is normal')\n",
    "        preci = 0\n",
    "    else:\n",
    "        preci = TP/(TP+FP)\n",
    "    recall= TP/(TP+FN)\n",
    "    print('For this model, the CCR is', ccr, ', the Precision is', preci, 'and the Recall is', recall )\n",
    "    return ccr,preci,recall"
   ]
  },
  {
   "cell_type": "markdown",
   "metadata": {},
   "source": [
    "## Neural network model"
   ]
  },
  {
   "cell_type": "code",
   "execution_count": 57,
   "metadata": {},
   "outputs": [
    {
     "name": "stdout",
     "output_type": "stream",
     "text": [
      "For this model, the CCR is 0.9905197777051324 , the Precision is 1.0 and the Recall is 0.9697286012526096\n"
     ]
    }
   ],
   "source": [
    "model_NN = Sequential()\n",
    "model_NN.add(Dense(64, input_dim=n, activation=activation_func_use))\n",
    "model_NN.add(Dense(16, activation=activation_func_use))\n",
    "model_NN.add(Dense(1, activation=activation_func_use))\n",
    "X_train, X_test, y_train, y_test = train_test_split(X, y, test_size=0.2, )\n",
    "model_NN.compile(loss=loss_func_use, optimizer=optimizer_scheme_use, metrics=['binary_accuracy'])\n",
    "model.fit(X_train, y_train, epochs=20, batch_size=100,verbose=0)\n",
    "y_predict = np.round(model.predict(X_test))\n",
    "cnn,preci,recall = evaluate_model(y_predict, y_test)"
   ]
  },
  {
   "cell_type": "markdown",
   "metadata": {},
   "source": [
    "## Neural Network LSTM model"
   ]
  },
  {
   "cell_type": "code",
   "execution_count": 58,
   "metadata": {},
   "outputs": [
    {
     "name": "stdout",
     "output_type": "stream",
     "text": [
      "For this model, the CCR is 0.9905197777051324 , the Precision is 1.0 and the Recall is 0.9697286012526096\n"
     ]
    }
   ],
   "source": [
    "model_LSTM = Sequential()\n",
    "model_LSTM.add(LSTM (64, input_shape=(None,n),return_sequences=False))\n",
    "model_LSTM.add(Dense(16, input_dim =n,             activation=activation_func_use))\n",
    "model_LSTM.add(Dense(1 ,              activation=activation_func_use))\n",
    "model_LSTM.compile(loss=loss_func_use, optimizer=optimizer_scheme_use, metrics=['binary_accuracy'])\n",
    "X_train = np.reshape(X_train, (X_train.shape[0], 1,X_train.shape[1]))\n",
    "X_test =np.reshape(X_test, (X_test.shape[0], 1, X_test.shape[1]))\n",
    "model_LSTM.fit(X_train,y_train,verbose = 0,epochs=20,batch_size=100)\n",
    "y_predict = np.round(model_LSTM.predict(X_test))\n",
    "cnn,preci,recall = evaluate_model(y_predict, y_test)"
   ]
  },
  {
   "cell_type": "markdown",
   "metadata": {},
   "source": [
    "In this file, we use the same training data and test data. We find that there are no difference between LSTM_NN model and NN model, in fact CCR, precision and Recall have same values. "
   ]
  },
  {
   "cell_type": "code",
   "execution_count": null,
   "metadata": {},
   "outputs": [],
   "source": []
  }
 ],
 "metadata": {
  "kernelspec": {
   "display_name": "Python 3",
   "language": "python",
   "name": "python3"
  },
  "language_info": {
   "codemirror_mode": {
    "name": "ipython",
    "version": 3
   },
   "file_extension": ".py",
   "mimetype": "text/x-python",
   "name": "python",
   "nbconvert_exporter": "python",
   "pygments_lexer": "ipython3",
   "version": "3.7.3"
  }
 },
 "nbformat": 4,
 "nbformat_minor": 2
}
