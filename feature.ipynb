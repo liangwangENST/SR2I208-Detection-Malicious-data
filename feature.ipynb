{
 "cells": [
  {
   "cell_type": "markdown",
   "metadata": {},
   "source": [
    "# Feature Extraction"
   ]
  },
  {
   "cell_type": "markdown",
   "metadata": {},
   "source": [
    "We use this module to extract the features we used to feed into NN. Remember, take all the data into consideration."
   ]
  },
  {
   "cell_type": "code",
   "execution_count": 1,
   "metadata": {},
   "outputs": [],
   "source": [
    "import pandas as pd\n",
    "import numpy as np\n",
    "import matplotlib.pyplot as plt"
   ]
  },
  {
   "cell_type": "code",
   "execution_count": 4,
   "metadata": {},
   "outputs": [],
   "source": [
    "# Importing the data\n",
    "col_index = [1,2,3,4,6,7,9,10,12,13,15,16]\n",
    "col_names = ['re_time','re_ID','re_x','re_y','tr_time','tr_ID','tr_x','tr_y','tr_vx','tr_vy','RSSI','Label']\n",
    "data_atk1 = pd.read_csv('dataset/attack1withlabels.csv', usecols = col_index, header = None, names = col_names)\n",
    "data_atk1 = data_atk1.dropna(axis = 0, how = 'any')"
   ]
  },
  {
   "cell_type": "code",
   "execution_count": 16,
   "metadata": {},
   "outputs": [
    {
     "data": {
      "text/plain": [
       "array([  10,   16,   22,   28,   34,   40,   46,   52,   58,   64,   70,\n",
       "         76,   82,   88,   94,  100,  106,  118,  124,  130,  136,  142,\n",
       "        148,  154,  160,  166,  172,  178,  184,  190,  196,  202,  208,\n",
       "        214,  220,  226,  232,  238,  244,  250,  256,  262,  268,  274,\n",
       "        280,  286,  292,  298,  304,  310,  316,  322,  328,  334,  340,\n",
       "        346,  352,  358,  364,  370,  376,  382,  388,  394,  400,  406,\n",
       "        412,  418,  424,  430,  436,  442,  448,  454,  460,  466,  472,\n",
       "        478,  484,  490,  496,  502,  508,  514,  520,  526,  532,  538,\n",
       "        544,  550,  556,  562,  568,  574,  580,  586,  592,  598,  604,\n",
       "        610,  616,  622,  628,  634,  640,  646,  652,  658,  664,  670,\n",
       "        676,  682,  688,  694,  700,  706,  712,  718,  724,  730,  736,\n",
       "        742,  748,  754,  760,  766,  772,  778,  784,  790,  796,  802,\n",
       "        808,  814,  820,  826,  832,  838,  844,  850,  856,  862,  868,\n",
       "        874,  880,  886,  892,  898,  904,  910,  916,  922,  928,  934,\n",
       "        940,  946,  952,  958,  964,  970,  976,  982,  988,  994, 1000,\n",
       "       1006, 1012, 1018, 1024, 1030, 1036, 1042, 1048, 1054, 1060, 1066,\n",
       "       1072, 1078, 1084, 1090, 1096, 1102, 1108, 1114, 1120, 1126, 1132,\n",
       "       1138, 1144, 1150, 1156, 1162, 1168, 1174, 1180, 1186, 1192, 1198,\n",
       "       1204, 1210, 1216, 1222, 1228, 1234, 1240, 1246, 1252, 1258, 1264,\n",
       "       1270, 1276, 1282, 1288, 1294, 1300, 1306, 1312, 1318, 1324, 1330,\n",
       "       1336, 1342, 1348, 1354, 1360, 1366, 1372, 1378, 1384, 1390, 1396,\n",
       "       1402, 1408, 1414, 1420, 1426, 1432, 1438, 1444, 1450, 1456, 1462,\n",
       "       1468, 1474, 1480, 1486, 1492, 1498, 1504, 1510, 1516, 1522, 1528,\n",
       "       1534, 1540, 1546, 1552, 1558, 1564, 1570, 1576, 1582, 1588, 1594,\n",
       "       1600, 1606, 1612, 1618, 1624, 1630, 1636, 1642, 1648, 1654, 1660,\n",
       "       1666, 1672, 1678, 1684, 1690, 1696, 1702, 1708, 1714, 1720, 1726,\n",
       "       1732, 1738, 1744, 1750, 1756, 1762, 1768, 1774, 1780, 1786, 1792,\n",
       "       1798, 1804, 1810, 1816, 1822, 1828, 1834, 1840, 1846, 1852, 1858,\n",
       "       1864, 1870, 1876, 1882, 1888, 1894, 1900, 1906, 1912, 1918, 1924,\n",
       "       1930, 1936, 1942, 1948, 1954, 1960, 1966, 1972, 1978, 1984, 1990,\n",
       "       1996, 2002, 2008, 2014, 2020, 2026, 2032, 2038, 2044, 2050, 2056,\n",
       "       2062, 2068, 2074, 2080, 2086, 2092, 2098, 2104, 2110, 2116, 2122,\n",
       "       2128, 2134, 2140, 2146, 2152, 2158, 2164, 2170, 2176, 2182, 2194,\n",
       "       2200, 2206, 2212, 2218, 2224, 2230, 2236, 2242, 2248, 2254, 2260,\n",
       "       2266, 2272, 2278, 2284, 2290, 2296, 2302, 2308, 2314, 2320, 2326,\n",
       "       2332, 2338, 2344, 2350, 2356, 2362, 2368, 2374, 2380, 2386, 2392,\n",
       "       2398, 2404, 2410, 2416, 2422, 2428, 2434, 2446, 2452, 2458, 2464,\n",
       "       2470, 2476, 2482, 2488, 2494, 2500, 2506, 2512, 2518, 2524, 2530,\n",
       "       2536, 2542, 2548, 2554, 2560, 2566, 2572, 2578, 2584, 2590, 2596,\n",
       "       2602, 2608, 2614, 2620, 2626, 2632, 2638, 2644, 2650, 2656, 2662,\n",
       "       2668, 2674, 2680, 2686, 2692, 2698, 2704, 2710, 2716, 2722, 2728,\n",
       "       2734, 2740, 2746, 2752, 2758, 2764, 2770, 2776, 2782, 2788, 2794,\n",
       "       2800, 2806, 2812, 2818, 2824, 2830, 2836, 2842, 2848, 2854, 2860,\n",
       "       2866, 2872, 2878, 2884, 2890, 2896, 2902, 2908, 2914, 2920, 2926,\n",
       "       2932, 2938, 2944, 2950, 2956, 2962, 2968, 2974, 2980, 2986, 2992,\n",
       "       2998, 3004, 3010, 3016, 3022, 3028, 3034, 3040, 3046, 3052, 3058,\n",
       "       3064, 3070, 3076, 3082, 3088, 3094, 3100, 3106, 3112, 3118, 3124,\n",
       "       3130, 3136, 3142, 3148, 3154, 3160, 3166, 3172, 3178, 3184, 3190,\n",
       "       3196, 3202, 3208, 3214, 3220, 3226, 3238, 3244, 3250, 3256, 3262,\n",
       "       3268, 3274, 3280, 3286, 3292, 3298, 3304, 3310, 3316, 3322, 3328,\n",
       "       3334, 3340, 3346, 3352, 3358, 3364, 3370, 3376, 3382, 3388, 3394,\n",
       "       3400, 3406, 3412, 3418, 3424, 3430, 3436, 3442, 3448, 3454, 3460,\n",
       "       3466, 3472, 3478, 3484, 3490, 3496, 3502, 3508, 3514, 3520, 3526,\n",
       "       3532, 3538, 3544, 3550, 3556, 3562, 3568, 3574, 3580, 3586, 3592,\n",
       "       3598, 3604, 3610, 3616, 3622, 3628, 3634, 3640, 3646, 3652, 3658,\n",
       "       3664, 3670, 3676, 3682, 3688, 3694, 3700, 3706, 3712, 3718, 3724,\n",
       "       3730, 3736, 3742, 3748, 3754])"
      ]
     },
     "execution_count": 16,
     "metadata": {},
     "output_type": "execute_result"
    }
   ],
   "source": [
    "# Extract the sender ID and receiver ID and get their information. \n",
    "recevier_ID = np.unique(np.array(data_atk1.iloc[:,1]))\n",
    "sender_ID = np.unique(np.array(data_atk1.iloc[:,5]))\n",
    "recevier_ID"
   ]
  },
  {
   "cell_type": "markdown",
   "metadata": {},
   "source": [
    "## Feature 1: Location Plausibility Check \n",
    "Give a confidential score about the realibility of location. The scoure is in the range  [0, 4], where for x and y direction range in [0,2] individually.\n",
    "1. for each unique transmitter ID, create its metrics."
   ]
  },
  {
   "cell_type": "code",
   "execution_count": 48,
   "metadata": {},
   "outputs": [
    {
     "name": "stdout",
     "output_type": "stream",
     "text": [
      "1.0\n"
     ]
    },
    {
     "data": {
      "text/html": [
       "<div>\n",
       "<style scoped>\n",
       "    .dataframe tbody tr th:only-of-type {\n",
       "        vertical-align: middle;\n",
       "    }\n",
       "\n",
       "    .dataframe tbody tr th {\n",
       "        vertical-align: top;\n",
       "    }\n",
       "\n",
       "    .dataframe thead th {\n",
       "        text-align: right;\n",
       "    }\n",
       "</style>\n",
       "<table border=\"1\" class=\"dataframe\">\n",
       "  <thead>\n",
       "    <tr style=\"text-align: right;\">\n",
       "      <th></th>\n",
       "      <th>re_time</th>\n",
       "      <th>re_ID</th>\n",
       "      <th>re_x</th>\n",
       "      <th>re_y</th>\n",
       "      <th>tr_time</th>\n",
       "      <th>tr_ID</th>\n",
       "      <th>tr_x</th>\n",
       "      <th>tr_y</th>\n",
       "      <th>tr_vx</th>\n",
       "      <th>tr_vy</th>\n",
       "      <th>RSSI</th>\n",
       "      <th>Label</th>\n",
       "    </tr>\n",
       "  </thead>\n",
       "  <tbody>\n",
       "    <tr>\n",
       "      <th>382272</th>\n",
       "      <td>21600</td>\n",
       "      <td>10</td>\n",
       "      <td>3584.4</td>\n",
       "      <td>5802.1</td>\n",
       "      <td>21600</td>\n",
       "      <td>13</td>\n",
       "      <td>3587.6</td>\n",
       "      <td>5843.7</td>\n",
       "      <td>-0.029984</td>\n",
       "      <td>30.904</td>\n",
       "      <td>1.180000e-07</td>\n",
       "      <td>0</td>\n",
       "    </tr>\n",
       "    <tr>\n",
       "      <th>382291</th>\n",
       "      <td>21601</td>\n",
       "      <td>10</td>\n",
       "      <td>3584.4</td>\n",
       "      <td>5833.6</td>\n",
       "      <td>21601</td>\n",
       "      <td>13</td>\n",
       "      <td>3587.6</td>\n",
       "      <td>5874.6</td>\n",
       "      <td>-0.030080</td>\n",
       "      <td>31.003</td>\n",
       "      <td>4.620000e-07</td>\n",
       "      <td>0</td>\n",
       "    </tr>\n",
       "    <tr>\n",
       "      <th>382306</th>\n",
       "      <td>21602</td>\n",
       "      <td>10</td>\n",
       "      <td>3584.3</td>\n",
       "      <td>5865.0</td>\n",
       "      <td>21602</td>\n",
       "      <td>13</td>\n",
       "      <td>3588.5</td>\n",
       "      <td>5905.5</td>\n",
       "      <td>1.315700</td>\n",
       "      <td>30.902</td>\n",
       "      <td>1.820000e-07</td>\n",
       "      <td>0</td>\n",
       "    </tr>\n",
       "    <tr>\n",
       "      <th>382323</th>\n",
       "      <td>21603</td>\n",
       "      <td>10</td>\n",
       "      <td>3584.8</td>\n",
       "      <td>5896.4</td>\n",
       "      <td>21603</td>\n",
       "      <td>13</td>\n",
       "      <td>3590.0</td>\n",
       "      <td>5936.5</td>\n",
       "      <td>2.301100</td>\n",
       "      <td>30.904</td>\n",
       "      <td>6.910000e-08</td>\n",
       "      <td>0</td>\n",
       "    </tr>\n",
       "    <tr>\n",
       "      <th>382338</th>\n",
       "      <td>21604</td>\n",
       "      <td>10</td>\n",
       "      <td>3586.2</td>\n",
       "      <td>5927.7</td>\n",
       "      <td>21604</td>\n",
       "      <td>13</td>\n",
       "      <td>3592.3</td>\n",
       "      <td>5967.3</td>\n",
       "      <td>2.293700</td>\n",
       "      <td>30.805</td>\n",
       "      <td>5.190000e-08</td>\n",
       "      <td>0</td>\n",
       "    </tr>\n",
       "    <tr>\n",
       "      <th>382350</th>\n",
       "      <td>21605</td>\n",
       "      <td>10</td>\n",
       "      <td>3588.4</td>\n",
       "      <td>5958.9</td>\n",
       "      <td>21605</td>\n",
       "      <td>13</td>\n",
       "      <td>3594.6</td>\n",
       "      <td>5998.2</td>\n",
       "      <td>2.302200</td>\n",
       "      <td>30.918</td>\n",
       "      <td>4.460000e-08</td>\n",
       "      <td>0</td>\n",
       "    </tr>\n",
       "    <tr>\n",
       "      <th>382360</th>\n",
       "      <td>21606</td>\n",
       "      <td>10</td>\n",
       "      <td>3590.7</td>\n",
       "      <td>5990.1</td>\n",
       "      <td>21606</td>\n",
       "      <td>13</td>\n",
       "      <td>3597.6</td>\n",
       "      <td>6029.0</td>\n",
       "      <td>3.254600</td>\n",
       "      <td>30.820</td>\n",
       "      <td>5.690000e-08</td>\n",
       "      <td>0</td>\n",
       "    </tr>\n",
       "    <tr>\n",
       "      <th>382370</th>\n",
       "      <td>21607</td>\n",
       "      <td>10</td>\n",
       "      <td>3593.5</td>\n",
       "      <td>6021.3</td>\n",
       "      <td>21607</td>\n",
       "      <td>13</td>\n",
       "      <td>3600.8</td>\n",
       "      <td>6059.8</td>\n",
       "      <td>3.253900</td>\n",
       "      <td>30.813</td>\n",
       "      <td>4.370000e-08</td>\n",
       "      <td>0</td>\n",
       "    </tr>\n",
       "  </tbody>\n",
       "</table>\n",
       "</div>"
      ],
      "text/plain": [
       "        re_time  re_ID    re_x    re_y  tr_time  tr_ID    tr_x    tr_y  \\\n",
       "382272    21600     10  3584.4  5802.1    21600     13  3587.6  5843.7   \n",
       "382291    21601     10  3584.4  5833.6    21601     13  3587.6  5874.6   \n",
       "382306    21602     10  3584.3  5865.0    21602     13  3588.5  5905.5   \n",
       "382323    21603     10  3584.8  5896.4    21603     13  3590.0  5936.5   \n",
       "382338    21604     10  3586.2  5927.7    21604     13  3592.3  5967.3   \n",
       "382350    21605     10  3588.4  5958.9    21605     13  3594.6  5998.2   \n",
       "382360    21606     10  3590.7  5990.1    21606     13  3597.6  6029.0   \n",
       "382370    21607     10  3593.5  6021.3    21607     13  3600.8  6059.8   \n",
       "\n",
       "           tr_vx   tr_vy          RSSI  Label  \n",
       "382272 -0.029984  30.904  1.180000e-07      0  \n",
       "382291 -0.030080  31.003  4.620000e-07      0  \n",
       "382306  1.315700  30.902  1.820000e-07      0  \n",
       "382323  2.301100  30.904  6.910000e-08      0  \n",
       "382338  2.293700  30.805  5.190000e-08      0  \n",
       "382350  2.302200  30.918  4.460000e-08      0  \n",
       "382360  3.254600  30.820  5.690000e-08      0  \n",
       "382370  3.253900  30.813  4.370000e-08      0  "
      ]
     },
     "execution_count": 48,
     "metadata": {},
     "output_type": "execute_result"
    }
   ],
   "source": [
    "a = data_atk1.loc[(data_atk1['re_ID']==10)]\n",
    "b = a.loc[(data_atk1['tr_ID']==13)]\n",
    "print(b.iloc[4]['re_time']-b.iloc[3]['re_time'])\n",
    "b"
   ]
  },
  {
   "cell_type": "code",
   "execution_count": 90,
   "metadata": {},
   "outputs": [],
   "source": [
    "x_95 = [-4.6983, 5.2265]\n",
    "x_99 = [-7.1795, 7.7077]\n",
    "y_95 = [-8.1203, 8.0501]\n",
    "y_99 = [-12.1629, 12.0927]\n",
    "\n",
    "def Location_plausibility(receiver_of_sender):\n",
    "    score = 0\n",
    "    length = receiver_of_sender.shape[0]\n",
    "    if length == 1:\n",
    "        return score\n",
    "    for k in range(length-1):\n",
    "        time_interval = (receiver_of_sender.iloc[k+1]['re_time'] - receiver_of_sender.iloc[k]['re_time'])\n",
    "        \n",
    "        x_pre_95_low = receiver_of_sender.iloc[k]['tr_x'] + time_interval * (receiver_of_sender.iloc[k]['tr_vx'] +  x_95 [0] *time_interval)\n",
    "        x_pre_95_up = receiver_of_sender.iloc[k]['tr_x'] + time_interval * (receiver_of_sender.iloc[k]['tr_vx'] +  x_95 [1]*time_interval)\n",
    "        x_pre_99_low = receiver_of_sender.iloc[k]['tr_x'] + time_interval * (receiver_of_sender.iloc[k]['tr_vx'] +  x_99 [0]*time_interval)\n",
    "        x_pre_99_up = receiver_of_sender.iloc[k]['tr_x'] + time_interval * (receiver_of_sender.iloc[k]['tr_vx'] +  x_99 [1]*time_interval)\n",
    "        \n",
    "        y_pre_95_low = receiver_of_sender.iloc[k]['tr_y'] + time_interval * (receiver_of_sender.iloc[k]['tr_vy'] +  y_95 [0]*time_interval)\n",
    "        y_pre_95_up = receiver_of_sender.iloc[k]['tr_y']  + time_interval * (receiver_of_sender.iloc[k]['tr_vy'] +  y_95 [1]*time_interval)\n",
    "        y_pre_99_low = receiver_of_sender.iloc[k]['tr_y'] + time_interval * (receiver_of_sender.iloc[k]['tr_vy'] +  y_99 [0]*time_interval)\n",
    "        y_pre_99_up = receiver_of_sender.iloc[k]['tr_y']  + time_interval * (receiver_of_sender.iloc[k]['tr_vy'] +  y_95 [1]*time_interval)\n",
    "        \n",
    "        t_x = 0\n",
    "        t_y = 0\n",
    "        if receiver_of_sender.iloc[k+1]['tr_x']<=x_pre_95_low or receiver_of_sender.iloc[k+1]['tr_x'] >= x_pre_95_up:\n",
    "            t_x = 1\n",
    "        \n",
    "        if receiver_of_sender.iloc[k+1]['tr_x']<=x_pre_99_low or receiver_of_sender.iloc[k+1]['tr_x'] >= x_pre_99_up:\n",
    "            t_x = 2\n",
    "            \n",
    "        if receiver_of_sender.iloc[k+1]['tr_y']<=y_pre_95_low or receiver_of_sender.iloc[k+1]['tr_y'] >= y_pre_95_up:\n",
    "            t_y = 1\n",
    "        \n",
    "        if receiver_of_sender.iloc[k+1]['tr_y']<=y_pre_99_low or receiver_of_sender.iloc[k+1]['tr_y'] >= y_pre_99_up:\n",
    "            t_y = 2  \n",
    "        \n",
    "        score = max(score, t_x + t_y)\n",
    "        \n",
    "        \n",
    "    return score"
   ]
  },
  {
   "cell_type": "markdown",
   "metadata": {},
   "source": [
    "## Feature 2: Movement plausibility check"
   ]
  },
  {
   "cell_type": "code",
   "execution_count": 76,
   "metadata": {},
   "outputs": [
    {
     "ename": "SyntaxError",
     "evalue": "invalid syntax (<ipython-input-76-08a3583d6e16>, line 5)",
     "output_type": "error",
     "traceback": [
      "\u001b[0;36m  File \u001b[0;32m\"<ipython-input-76-08a3583d6e16>\"\u001b[0;36m, line \u001b[0;32m5\u001b[0m\n\u001b[0;31m    return stationary = 0\u001b[0m\n\u001b[0m                      ^\u001b[0m\n\u001b[0;31mSyntaxError\u001b[0m\u001b[0;31m:\u001b[0m invalid syntax\n"
     ]
    }
   ],
   "source": [
    "def Movement_plausibility(receiver_of_sender):\n",
    "    stationary = 0\n",
    "    length = receiver_of_sender.shape[0]\n",
    "    if length == 1:\n",
    "        return stationary\n",
    "    x_placement = receiver_of_sender.iloc[length-1]['tr_x'] - receiver_of_sender.iloc[0]['tr_x']\n",
    "    y_placement = receiver_of_sender.iloc[length-1]['tr_y'] - receiver_of_sender.iloc[0]['tr_y']\n",
    "    time_duration = (receiver_of_sender.iloc[length-1]['re_time'] - receiver_of_sender.iloc[0]['re_time']) * 0.1\n",
    "    average_velocity_x = x_placement/time_duration\n",
    "    average_velocity_y = y_placement/time_duration\n",
    "    \n",
    "    \n",
    "    \n",
    "    return stationary"
   ]
  },
  {
   "cell_type": "markdown",
   "metadata": {},
   "source": [
    "## Getting the feature"
   ]
  },
  {
   "cell_type": "code",
   "execution_count": 93,
   "metadata": {},
   "outputs": [],
   "source": [
    "def features(data_atk1):\n",
    "    count = 0\n",
    "    \n",
    "    # feature_vector = np.zeros((data_atk1.shape[0], 6))\n",
    "    # label = np.zeros(data_atk1.shape[0])\n",
    "    feature_vector = np.array([])\n",
    "    \n",
    "    recevier_ID = np.unique(np.array(data_atk1.iloc[:,1]))\n",
    "    sender_ID = np.unique(np.array(data_atk1.iloc[:,5]))\n",
    "    for i in range(len(recevier_ID)):\n",
    "        sender = data_atk1.loc[(data_atk1['re_ID']==recevier_ID[i])]\n",
    "        sender_receiver_ID = np.unique(np.array(sender.iloc[:,5]))\n",
    "        for j in range(len(sender_receiver_ID)):\n",
    "            receiver_of_sender = data_atk1.loc[(data_atk1['tr_ID']==sender_receiver_ID[j])]\n",
    "            # Location plausibility check\n",
    "            feautre_1 = Location_plausibility(receiver_of_sender)\n",
    "            np.append(feature_vector, feautre_1)\n",
    "            print(feautre_1)\n",
    "            print(feature_vector)\n",
    "            # \n",
    "            # feature_vector[count, 1] = \n",
    "            # feature_vector[count, 2] = \n",
    "            # feature_vector[count, 3] = \n",
    "            # feature_vector[count, 4] = \n",
    "            # feature_vector[count, 5] = \n",
    "            # label[count] = \n",
    "            count += 1\n",
    "    return feature_vector# , label"
   ]
  },
  {
   "cell_type": "code",
   "execution_count": 94,
   "metadata": {},
   "outputs": [
    {
     "name": "stdout",
     "output_type": "stream",
     "text": [
      "4\n",
      "[]\n",
      "4\n",
      "[]\n",
      "4\n",
      "[]\n",
      "4\n",
      "[]\n",
      "0\n",
      "[]\n",
      "4\n",
      "[]\n",
      "4\n",
      "[]\n",
      "4\n",
      "[]\n",
      "4\n",
      "[]\n",
      "4\n",
      "[]\n",
      "4\n",
      "[]\n",
      "4\n",
      "[]\n",
      "4\n",
      "[]\n",
      "4\n",
      "[]\n"
     ]
    },
    {
     "ename": "KeyboardInterrupt",
     "evalue": "",
     "output_type": "error",
     "traceback": [
      "\u001b[0;31m---------------------------------------------------------------------------\u001b[0m",
      "\u001b[0;31mKeyboardInterrupt\u001b[0m                         Traceback (most recent call last)",
      "\u001b[0;32m<ipython-input-94-23dfea8c6502>\u001b[0m in \u001b[0;36m<module>\u001b[0;34m\u001b[0m\n\u001b[0;32m----> 1\u001b[0;31m \u001b[0mfeatures\u001b[0m\u001b[0;34m(\u001b[0m\u001b[0mdata_atk1\u001b[0m\u001b[0;34m)\u001b[0m\u001b[0;34m\u001b[0m\u001b[0;34m\u001b[0m\u001b[0m\n\u001b[0m",
      "\u001b[0;32m<ipython-input-93-944238550dea>\u001b[0m in \u001b[0;36mfeatures\u001b[0;34m(data_atk1)\u001b[0m\n\u001b[1;32m     14\u001b[0m             \u001b[0mreceiver_of_sender\u001b[0m \u001b[0;34m=\u001b[0m \u001b[0mdata_atk1\u001b[0m\u001b[0;34m.\u001b[0m\u001b[0mloc\u001b[0m\u001b[0;34m[\u001b[0m\u001b[0;34m(\u001b[0m\u001b[0mdata_atk1\u001b[0m\u001b[0;34m[\u001b[0m\u001b[0;34m'tr_ID'\u001b[0m\u001b[0;34m]\u001b[0m\u001b[0;34m==\u001b[0m\u001b[0msender_receiver_ID\u001b[0m\u001b[0;34m[\u001b[0m\u001b[0mj\u001b[0m\u001b[0;34m]\u001b[0m\u001b[0;34m)\u001b[0m\u001b[0;34m]\u001b[0m\u001b[0;34m\u001b[0m\u001b[0;34m\u001b[0m\u001b[0m\n\u001b[1;32m     15\u001b[0m             \u001b[0;31m# Location plausibility check\u001b[0m\u001b[0;34m\u001b[0m\u001b[0;34m\u001b[0m\u001b[0;34m\u001b[0m\u001b[0m\n\u001b[0;32m---> 16\u001b[0;31m             \u001b[0mfeautre_1\u001b[0m \u001b[0;34m=\u001b[0m \u001b[0mLocation_plausibility\u001b[0m\u001b[0;34m(\u001b[0m\u001b[0mreceiver_of_sender\u001b[0m\u001b[0;34m)\u001b[0m\u001b[0;34m\u001b[0m\u001b[0;34m\u001b[0m\u001b[0m\n\u001b[0m\u001b[1;32m     17\u001b[0m             \u001b[0mnp\u001b[0m\u001b[0;34m.\u001b[0m\u001b[0mappend\u001b[0m\u001b[0;34m(\u001b[0m\u001b[0mfeature_vector\u001b[0m\u001b[0;34m,\u001b[0m \u001b[0mfeautre_1\u001b[0m\u001b[0;34m)\u001b[0m\u001b[0;34m\u001b[0m\u001b[0;34m\u001b[0m\u001b[0m\n\u001b[1;32m     18\u001b[0m             \u001b[0mprint\u001b[0m\u001b[0;34m(\u001b[0m\u001b[0mfeautre_1\u001b[0m\u001b[0;34m)\u001b[0m\u001b[0;34m\u001b[0m\u001b[0;34m\u001b[0m\u001b[0m\n",
      "\u001b[0;32m<ipython-input-90-b0a12347d2a5>\u001b[0m in \u001b[0;36mLocation_plausibility\u001b[0;34m(receiver_of_sender)\u001b[0m\n\u001b[1;32m     14\u001b[0m         \u001b[0mx_pre_95_low\u001b[0m \u001b[0;34m=\u001b[0m \u001b[0mreceiver_of_sender\u001b[0m\u001b[0;34m.\u001b[0m\u001b[0miloc\u001b[0m\u001b[0;34m[\u001b[0m\u001b[0mk\u001b[0m\u001b[0;34m]\u001b[0m\u001b[0;34m[\u001b[0m\u001b[0;34m'tr_x'\u001b[0m\u001b[0;34m]\u001b[0m \u001b[0;34m+\u001b[0m \u001b[0mtime_interval\u001b[0m \u001b[0;34m*\u001b[0m \u001b[0;34m(\u001b[0m\u001b[0mreceiver_of_sender\u001b[0m\u001b[0;34m.\u001b[0m\u001b[0miloc\u001b[0m\u001b[0;34m[\u001b[0m\u001b[0mk\u001b[0m\u001b[0;34m]\u001b[0m\u001b[0;34m[\u001b[0m\u001b[0;34m'tr_vx'\u001b[0m\u001b[0;34m]\u001b[0m \u001b[0;34m+\u001b[0m  \u001b[0mx_95\u001b[0m \u001b[0;34m[\u001b[0m\u001b[0;36m0\u001b[0m\u001b[0;34m]\u001b[0m \u001b[0;34m*\u001b[0m\u001b[0mtime_interval\u001b[0m\u001b[0;34m)\u001b[0m\u001b[0;34m\u001b[0m\u001b[0;34m\u001b[0m\u001b[0m\n\u001b[1;32m     15\u001b[0m         \u001b[0mx_pre_95_up\u001b[0m \u001b[0;34m=\u001b[0m \u001b[0mreceiver_of_sender\u001b[0m\u001b[0;34m.\u001b[0m\u001b[0miloc\u001b[0m\u001b[0;34m[\u001b[0m\u001b[0mk\u001b[0m\u001b[0;34m]\u001b[0m\u001b[0;34m[\u001b[0m\u001b[0;34m'tr_x'\u001b[0m\u001b[0;34m]\u001b[0m \u001b[0;34m+\u001b[0m \u001b[0mtime_interval\u001b[0m \u001b[0;34m*\u001b[0m \u001b[0;34m(\u001b[0m\u001b[0mreceiver_of_sender\u001b[0m\u001b[0;34m.\u001b[0m\u001b[0miloc\u001b[0m\u001b[0;34m[\u001b[0m\u001b[0mk\u001b[0m\u001b[0;34m]\u001b[0m\u001b[0;34m[\u001b[0m\u001b[0;34m'tr_vx'\u001b[0m\u001b[0;34m]\u001b[0m \u001b[0;34m+\u001b[0m  \u001b[0mx_95\u001b[0m \u001b[0;34m[\u001b[0m\u001b[0;36m1\u001b[0m\u001b[0;34m]\u001b[0m\u001b[0;34m*\u001b[0m\u001b[0mtime_interval\u001b[0m\u001b[0;34m)\u001b[0m\u001b[0;34m\u001b[0m\u001b[0;34m\u001b[0m\u001b[0m\n\u001b[0;32m---> 16\u001b[0;31m         \u001b[0mx_pre_99_low\u001b[0m \u001b[0;34m=\u001b[0m \u001b[0mreceiver_of_sender\u001b[0m\u001b[0;34m.\u001b[0m\u001b[0miloc\u001b[0m\u001b[0;34m[\u001b[0m\u001b[0mk\u001b[0m\u001b[0;34m]\u001b[0m\u001b[0;34m[\u001b[0m\u001b[0;34m'tr_x'\u001b[0m\u001b[0;34m]\u001b[0m \u001b[0;34m+\u001b[0m \u001b[0mtime_interval\u001b[0m \u001b[0;34m*\u001b[0m \u001b[0;34m(\u001b[0m\u001b[0mreceiver_of_sender\u001b[0m\u001b[0;34m.\u001b[0m\u001b[0miloc\u001b[0m\u001b[0;34m[\u001b[0m\u001b[0mk\u001b[0m\u001b[0;34m]\u001b[0m\u001b[0;34m[\u001b[0m\u001b[0;34m'tr_vx'\u001b[0m\u001b[0;34m]\u001b[0m \u001b[0;34m+\u001b[0m  \u001b[0mx_99\u001b[0m \u001b[0;34m[\u001b[0m\u001b[0;36m0\u001b[0m\u001b[0;34m]\u001b[0m\u001b[0;34m*\u001b[0m\u001b[0mtime_interval\u001b[0m\u001b[0;34m)\u001b[0m\u001b[0;34m\u001b[0m\u001b[0;34m\u001b[0m\u001b[0m\n\u001b[0m\u001b[1;32m     17\u001b[0m         \u001b[0mx_pre_99_up\u001b[0m \u001b[0;34m=\u001b[0m \u001b[0mreceiver_of_sender\u001b[0m\u001b[0;34m.\u001b[0m\u001b[0miloc\u001b[0m\u001b[0;34m[\u001b[0m\u001b[0mk\u001b[0m\u001b[0;34m]\u001b[0m\u001b[0;34m[\u001b[0m\u001b[0;34m'tr_x'\u001b[0m\u001b[0;34m]\u001b[0m \u001b[0;34m+\u001b[0m \u001b[0mtime_interval\u001b[0m \u001b[0;34m*\u001b[0m \u001b[0;34m(\u001b[0m\u001b[0mreceiver_of_sender\u001b[0m\u001b[0;34m.\u001b[0m\u001b[0miloc\u001b[0m\u001b[0;34m[\u001b[0m\u001b[0mk\u001b[0m\u001b[0;34m]\u001b[0m\u001b[0;34m[\u001b[0m\u001b[0;34m'tr_vx'\u001b[0m\u001b[0;34m]\u001b[0m \u001b[0;34m+\u001b[0m  \u001b[0mx_99\u001b[0m \u001b[0;34m[\u001b[0m\u001b[0;36m1\u001b[0m\u001b[0;34m]\u001b[0m\u001b[0;34m*\u001b[0m\u001b[0mtime_interval\u001b[0m\u001b[0;34m)\u001b[0m\u001b[0;34m\u001b[0m\u001b[0;34m\u001b[0m\u001b[0m\n\u001b[1;32m     18\u001b[0m \u001b[0;34m\u001b[0m\u001b[0m\n",
      "\u001b[0;32m/Library/Frameworks/Python.framework/Versions/3.7/lib/python3.7/site-packages/pandas/core/indexing.py\u001b[0m in \u001b[0;36m__getitem__\u001b[0;34m(self, key)\u001b[0m\n\u001b[1;32m   1498\u001b[0m \u001b[0;34m\u001b[0m\u001b[0m\n\u001b[1;32m   1499\u001b[0m             \u001b[0mmaybe_callable\u001b[0m \u001b[0;34m=\u001b[0m \u001b[0mcom\u001b[0m\u001b[0;34m.\u001b[0m\u001b[0mapply_if_callable\u001b[0m\u001b[0;34m(\u001b[0m\u001b[0mkey\u001b[0m\u001b[0;34m,\u001b[0m \u001b[0mself\u001b[0m\u001b[0;34m.\u001b[0m\u001b[0mobj\u001b[0m\u001b[0;34m)\u001b[0m\u001b[0;34m\u001b[0m\u001b[0;34m\u001b[0m\u001b[0m\n\u001b[0;32m-> 1500\u001b[0;31m             \u001b[0;32mreturn\u001b[0m \u001b[0mself\u001b[0m\u001b[0;34m.\u001b[0m\u001b[0m_getitem_axis\u001b[0m\u001b[0;34m(\u001b[0m\u001b[0mmaybe_callable\u001b[0m\u001b[0;34m,\u001b[0m \u001b[0maxis\u001b[0m\u001b[0;34m=\u001b[0m\u001b[0maxis\u001b[0m\u001b[0;34m)\u001b[0m\u001b[0;34m\u001b[0m\u001b[0;34m\u001b[0m\u001b[0m\n\u001b[0m\u001b[1;32m   1501\u001b[0m \u001b[0;34m\u001b[0m\u001b[0m\n\u001b[1;32m   1502\u001b[0m     \u001b[0;32mdef\u001b[0m \u001b[0m_is_scalar_access\u001b[0m\u001b[0;34m(\u001b[0m\u001b[0mself\u001b[0m\u001b[0;34m,\u001b[0m \u001b[0mkey\u001b[0m\u001b[0;34m)\u001b[0m\u001b[0;34m:\u001b[0m\u001b[0;34m\u001b[0m\u001b[0;34m\u001b[0m\u001b[0m\n",
      "\u001b[0;32m/Library/Frameworks/Python.framework/Versions/3.7/lib/python3.7/site-packages/pandas/core/indexing.py\u001b[0m in \u001b[0;36m_getitem_axis\u001b[0;34m(self, key, axis)\u001b[0m\n\u001b[1;32m   2230\u001b[0m             \u001b[0mself\u001b[0m\u001b[0;34m.\u001b[0m\u001b[0m_validate_integer\u001b[0m\u001b[0;34m(\u001b[0m\u001b[0mkey\u001b[0m\u001b[0;34m,\u001b[0m \u001b[0maxis\u001b[0m\u001b[0;34m)\u001b[0m\u001b[0;34m\u001b[0m\u001b[0;34m\u001b[0m\u001b[0m\n\u001b[1;32m   2231\u001b[0m \u001b[0;34m\u001b[0m\u001b[0m\n\u001b[0;32m-> 2232\u001b[0;31m             \u001b[0;32mreturn\u001b[0m \u001b[0mself\u001b[0m\u001b[0;34m.\u001b[0m\u001b[0m_get_loc\u001b[0m\u001b[0;34m(\u001b[0m\u001b[0mkey\u001b[0m\u001b[0;34m,\u001b[0m \u001b[0maxis\u001b[0m\u001b[0;34m=\u001b[0m\u001b[0maxis\u001b[0m\u001b[0;34m)\u001b[0m\u001b[0;34m\u001b[0m\u001b[0;34m\u001b[0m\u001b[0m\n\u001b[0m\u001b[1;32m   2233\u001b[0m \u001b[0;34m\u001b[0m\u001b[0m\n\u001b[1;32m   2234\u001b[0m     \u001b[0;32mdef\u001b[0m \u001b[0m_convert_to_indexer\u001b[0m\u001b[0;34m(\u001b[0m\u001b[0mself\u001b[0m\u001b[0;34m,\u001b[0m \u001b[0mobj\u001b[0m\u001b[0;34m,\u001b[0m \u001b[0maxis\u001b[0m\u001b[0;34m=\u001b[0m\u001b[0;32mNone\u001b[0m\u001b[0;34m,\u001b[0m \u001b[0mis_setter\u001b[0m\u001b[0;34m=\u001b[0m\u001b[0;32mFalse\u001b[0m\u001b[0;34m)\u001b[0m\u001b[0;34m:\u001b[0m\u001b[0;34m\u001b[0m\u001b[0;34m\u001b[0m\u001b[0m\n",
      "\u001b[0;32m/Library/Frameworks/Python.framework/Versions/3.7/lib/python3.7/site-packages/pandas/core/indexing.py\u001b[0m in \u001b[0;36m_get_loc\u001b[0;34m(self, key, axis)\u001b[0m\n\u001b[1;32m    144\u001b[0m         \u001b[0;32mif\u001b[0m \u001b[0maxis\u001b[0m \u001b[0;32mis\u001b[0m \u001b[0;32mNone\u001b[0m\u001b[0;34m:\u001b[0m\u001b[0;34m\u001b[0m\u001b[0;34m\u001b[0m\u001b[0m\n\u001b[1;32m    145\u001b[0m             \u001b[0maxis\u001b[0m \u001b[0;34m=\u001b[0m \u001b[0mself\u001b[0m\u001b[0;34m.\u001b[0m\u001b[0maxis\u001b[0m\u001b[0;34m\u001b[0m\u001b[0;34m\u001b[0m\u001b[0m\n\u001b[0;32m--> 146\u001b[0;31m         \u001b[0;32mreturn\u001b[0m \u001b[0mself\u001b[0m\u001b[0;34m.\u001b[0m\u001b[0mobj\u001b[0m\u001b[0;34m.\u001b[0m\u001b[0m_ixs\u001b[0m\u001b[0;34m(\u001b[0m\u001b[0mkey\u001b[0m\u001b[0;34m,\u001b[0m \u001b[0maxis\u001b[0m\u001b[0;34m=\u001b[0m\u001b[0maxis\u001b[0m\u001b[0;34m)\u001b[0m\u001b[0;34m\u001b[0m\u001b[0;34m\u001b[0m\u001b[0m\n\u001b[0m\u001b[1;32m    147\u001b[0m \u001b[0;34m\u001b[0m\u001b[0m\n\u001b[1;32m    148\u001b[0m     \u001b[0;32mdef\u001b[0m \u001b[0m_slice\u001b[0m\u001b[0;34m(\u001b[0m\u001b[0mself\u001b[0m\u001b[0;34m,\u001b[0m \u001b[0mobj\u001b[0m\u001b[0;34m,\u001b[0m \u001b[0maxis\u001b[0m\u001b[0;34m=\u001b[0m\u001b[0;32mNone\u001b[0m\u001b[0;34m,\u001b[0m \u001b[0mkind\u001b[0m\u001b[0;34m=\u001b[0m\u001b[0;32mNone\u001b[0m\u001b[0;34m)\u001b[0m\u001b[0;34m:\u001b[0m\u001b[0;34m\u001b[0m\u001b[0;34m\u001b[0m\u001b[0m\n",
      "\u001b[0;32m/Library/Frameworks/Python.framework/Versions/3.7/lib/python3.7/site-packages/pandas/core/frame.py\u001b[0m in \u001b[0;36m_ixs\u001b[0;34m(self, i, axis)\u001b[0m\n\u001b[1;32m   2849\u001b[0m                     \u001b[0mcopy\u001b[0m \u001b[0;34m=\u001b[0m \u001b[0;32mTrue\u001b[0m\u001b[0;34m\u001b[0m\u001b[0;34m\u001b[0m\u001b[0m\n\u001b[1;32m   2850\u001b[0m                 \u001b[0;32melse\u001b[0m\u001b[0;34m:\u001b[0m\u001b[0;34m\u001b[0m\u001b[0;34m\u001b[0m\u001b[0m\n\u001b[0;32m-> 2851\u001b[0;31m                     \u001b[0mnew_values\u001b[0m \u001b[0;34m=\u001b[0m \u001b[0mself\u001b[0m\u001b[0;34m.\u001b[0m\u001b[0m_data\u001b[0m\u001b[0;34m.\u001b[0m\u001b[0mfast_xs\u001b[0m\u001b[0;34m(\u001b[0m\u001b[0mi\u001b[0m\u001b[0;34m)\u001b[0m\u001b[0;34m\u001b[0m\u001b[0;34m\u001b[0m\u001b[0m\n\u001b[0m\u001b[1;32m   2852\u001b[0m                     \u001b[0;32mif\u001b[0m \u001b[0mis_scalar\u001b[0m\u001b[0;34m(\u001b[0m\u001b[0mnew_values\u001b[0m\u001b[0;34m)\u001b[0m\u001b[0;34m:\u001b[0m\u001b[0;34m\u001b[0m\u001b[0;34m\u001b[0m\u001b[0m\n\u001b[1;32m   2853\u001b[0m                         \u001b[0;32mreturn\u001b[0m \u001b[0mnew_values\u001b[0m\u001b[0;34m\u001b[0m\u001b[0;34m\u001b[0m\u001b[0m\n",
      "\u001b[0;32m/Library/Frameworks/Python.framework/Versions/3.7/lib/python3.7/site-packages/pandas/core/internals/managers.py\u001b[0m in \u001b[0;36mfast_xs\u001b[0;34m(self, loc)\u001b[0m\n\u001b[1;32m    894\u001b[0m             \u001b[0mresult\u001b[0m \u001b[0;34m=\u001b[0m \u001b[0mnp\u001b[0m\u001b[0;34m.\u001b[0m\u001b[0mempty\u001b[0m\u001b[0;34m(\u001b[0m\u001b[0mn\u001b[0m\u001b[0;34m,\u001b[0m \u001b[0mdtype\u001b[0m\u001b[0;34m=\u001b[0m\u001b[0mobject\u001b[0m\u001b[0;34m)\u001b[0m\u001b[0;34m\u001b[0m\u001b[0;34m\u001b[0m\u001b[0m\n\u001b[1;32m    895\u001b[0m         \u001b[0;32melse\u001b[0m\u001b[0;34m:\u001b[0m\u001b[0;34m\u001b[0m\u001b[0;34m\u001b[0m\u001b[0m\n\u001b[0;32m--> 896\u001b[0;31m             \u001b[0mresult\u001b[0m \u001b[0;34m=\u001b[0m \u001b[0mnp\u001b[0m\u001b[0;34m.\u001b[0m\u001b[0mempty\u001b[0m\u001b[0;34m(\u001b[0m\u001b[0mn\u001b[0m\u001b[0;34m,\u001b[0m \u001b[0mdtype\u001b[0m\u001b[0;34m=\u001b[0m\u001b[0mdtype\u001b[0m\u001b[0;34m)\u001b[0m\u001b[0;34m\u001b[0m\u001b[0;34m\u001b[0m\u001b[0m\n\u001b[0m\u001b[1;32m    897\u001b[0m \u001b[0;34m\u001b[0m\u001b[0m\n\u001b[1;32m    898\u001b[0m         \u001b[0;32mfor\u001b[0m \u001b[0mblk\u001b[0m \u001b[0;32min\u001b[0m \u001b[0mself\u001b[0m\u001b[0;34m.\u001b[0m\u001b[0mblocks\u001b[0m\u001b[0;34m:\u001b[0m\u001b[0;34m\u001b[0m\u001b[0;34m\u001b[0m\u001b[0m\n",
      "\u001b[0;31mKeyboardInterrupt\u001b[0m: "
     ]
    }
   ],
   "source": [
    "features(data_atk1)"
   ]
  },
  {
   "cell_type": "markdown",
   "metadata": {},
   "source": [
    "## Feature 2: Movement Plausibility Check "
   ]
  },
  {
   "cell_type": "code",
   "execution_count": 87,
   "metadata": {},
   "outputs": [],
   "source": [
    "n = 0\n",
    "m = np.array([])"
   ]
  },
  {
   "cell_type": "code",
   "execution_count": 89,
   "metadata": {},
   "outputs": [
    {
     "data": {
      "text/plain": [
       "array([0.])"
      ]
     },
     "execution_count": 89,
     "metadata": {},
     "output_type": "execute_result"
    }
   ],
   "source": [
    "np.append(m,n)"
   ]
  },
  {
   "cell_type": "code",
   "execution_count": null,
   "metadata": {},
   "outputs": [],
   "source": []
  }
 ],
 "metadata": {
  "kernelspec": {
   "display_name": "Python 3",
   "language": "python",
   "name": "python3"
  },
  "language_info": {
   "codemirror_mode": {
    "name": "ipython",
    "version": 3
   },
   "file_extension": ".py",
   "mimetype": "text/x-python",
   "name": "python",
   "nbconvert_exporter": "python",
   "pygments_lexer": "ipython3",
   "version": "3.7.3"
  }
 },
 "nbformat": 4,
 "nbformat_minor": 2
}
