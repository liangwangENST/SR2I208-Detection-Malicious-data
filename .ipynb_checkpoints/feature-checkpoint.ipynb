{
 "cells": [
  {
   "cell_type": "markdown",
   "metadata": {},
   "source": [
    "# Feature Extraction"
   ]
  },
  {
   "cell_type": "markdown",
   "metadata": {},
   "source": [
    "We use this module to extract the features we used to feed into NN. Remember, take all the data into consideration."
   ]
  },
  {
   "cell_type": "code",
   "execution_count": 1,
   "metadata": {},
   "outputs": [],
   "source": [
    "import pandas as pd\n",
    "import numpy as np\n",
    "import matplotlib.pyplot as plt"
   ]
  },
  {
   "cell_type": "code",
   "execution_count": 4,
   "metadata": {},
   "outputs": [],
   "source": [
    "# Importing the data\n",
    "col_index = [1,2,3,4,6,7,9,10,12,13,15,16]\n",
    "col_names = ['re_time','re_ID','re_x','re_y','tr_time','tr_ID','tr_x','tr_y','tr_vx','tr_vy','RSSI','Label']\n",
    "data_atk1 = pd.read_csv('dataset/attack1withlabels.csv', usecols = col_index, header = None, names = col_names)\n",
    "data_atk1 = data_atk1.dropna(axis = 0, how = 'any')"
   ]
  },
  {
   "cell_type": "code",
   "execution_count": 15,
   "metadata": {},
   "outputs": [
    {
     "name": "stdout",
     "output_type": "stream",
     "text": [
      "[   7   13   19   25   31   37   43   49   55   61   67   73   79   85\n",
      "   91   97  103  115  121  127  133  139  145  151  157  163  169  175\n",
      "  181  187  193  199  205  211  217  223  229  235  241  247  253  259\n",
      "  265  271  277  283  289  295  301  307  313  319  325  331  337  343\n",
      "  349  355  361  367  373  379  385  391  397  403  409  415  421  427\n",
      "  433  439  445  451  457  463  469  475  481  487  493  499  505  511\n",
      "  517  523  529  535  541  547  553  559  565  571  577  583  589  595\n",
      "  601  607  613  619  625  631  637  643  649  655  661  667  673  679\n",
      "  685  691  697  703  709  715  721  727  733  739  745  751  757  763\n",
      "  769  775  781  787  793  799  805  811  817  823  829  835  841  847\n",
      "  853  859  865  871  877  883  889  895  901  907  913  919  925  931\n",
      "  937  943  949  955  961  967  973  979  985  991  997 1003 1009 1015\n",
      " 1021 1027 1033 1039 1045 1051 1057 1063 1069 1075 1081 1087 1093 1099\n",
      " 1105 1111 1117 1123 1129 1135 1141 1147 1153 1159 1165 1171 1177 1183\n",
      " 1189 1195 1201 1207 1213 1219 1225 1231 1237 1243 1249 1255 1261 1267\n",
      " 1273 1279 1285 1291 1297 1303 1309 1315 1321 1327 1333 1339 1345 1351\n",
      " 1357 1363 1369 1375 1381 1387 1393 1399 1405 1411 1417 1423 1429 1435\n",
      " 1441 1447 1453 1459 1465 1471 1477 1483 1489 1495 1501 1507 1513 1519\n",
      " 1525 1531 1537 1543 1549 1555 1561 1567 1573 1579 1585 1591 1597 1603\n",
      " 1609 1615 1621 1627 1633 1639 1645 1651 1657 1663 1669 1675 1681 1687\n",
      " 1693 1699 1705 1711 1717 1723 1729 1735 1741 1747 1753 1759 1765 1771\n",
      " 1777 1783 1789 1795 1801 1807 1813 1819 1825 1831 1837 1843 1849 1855\n",
      " 1861 1867 1873 1879 1885 1891 1897 1903 1909 1915 1921 1927 1933 1939\n",
      " 1945 1951 1957 1963 1969 1975 1981 1987 1993 1999 2005 2011 2017 2023\n",
      " 2029 2035 2041 2047 2053 2059 2065 2071 2077 2083 2089 2095 2107 2113\n",
      " 2119 2125 2131 2137 2143 2149 2155 2161 2167 2173 2179 2191 2197 2203\n",
      " 2209 2215 2221 2227 2233 2239 2245 2251 2257 2263 2269 2275 2281 2287\n",
      " 2293 2299 2305 2311 2317 2323 2329 2335 2341 2347 2353 2359 2365 2371\n",
      " 2377 2383 2389 2395 2401 2407 2413 2419 2425 2431 2443 2449 2455 2461\n",
      " 2467 2473 2479 2485 2491 2497 2503 2509 2515 2521 2527 2533 2539 2545\n",
      " 2551 2557 2563 2569 2575 2581 2587 2593 2599 2605 2611 2617 2623 2629\n",
      " 2635 2641 2647 2653 2659 2665 2671 2677 2683 2689 2695 2701 2707 2713\n",
      " 2719 2725 2731 2737 2743 2749 2755 2761 2767 2773 2779 2785 2791 2797\n",
      " 2803 2809 2815 2821 2827 2833 2839 2845 2851 2857 2863 2869 2875 2881\n",
      " 2887 2893 2899 2905 2911 2917 2923 2929 2935 2941 2947 2953 2959 2965\n",
      " 2971 2977 2983 2989 2995 3001 3007 3013 3019 3025 3031 3037 3043 3049\n",
      " 3055 3061 3067 3073 3079 3085 3091 3097 3103 3109 3115 3121 3127 3133\n",
      " 3139 3145 3151 3157 3163 3169 3175 3181 3187 3193 3199 3205 3211 3217\n",
      " 3223 3235 3241 3247 3253 3259 3265 3271 3277 3283 3289 3295 3301 3307\n",
      " 3313 3319 3325 3331 3337 3343 3349 3355 3361 3367 3373 3379 3385 3391\n",
      " 3397 3403 3409 3415 3421 3427 3433 3439 3445 3451 3457 3463 3469 3475\n",
      " 3481 3487 3493 3499 3505 3511 3517 3523 3529 3535 3541 3547 3553 3559\n",
      " 3565 3571 3577 3583 3589 3595 3601 3607 3613 3619 3625 3631 3637 3643\n",
      " 3649 3655 3661 3667 3673 3679 3685 3691 3697 3703 3709 3715 3721 3727\n",
      " 3733 3739]\n"
     ]
    }
   ],
   "source": [
    "# Extract the sender ID and receiver ID and get their information. \n",
    "recevier_ID = np.unique(np.array(data_atk1.iloc[:,1]))\n",
    "sender_ID = np.unique(np.array(data_atk1.iloc[:,5]))"
   ]
  },
  {
   "cell_type": "markdown",
   "metadata": {},
   "source": [
    "## Feature 1: Location Plausibility Check \n",
    "Give a confidential score about the realibility of location. The scoure is in the range  [0, 4], where for x and y direction range in [0,2] individually.\n",
    "1. for each unique transmitter ID, create its metrics.\n",
    "2. "
   ]
  },
  {
   "cell_type": "code",
   "execution_count": 6,
   "metadata": {},
   "outputs": [
    {
     "ename": "SyntaxError",
     "evalue": "invalid syntax (<ipython-input-6-7b18d017f89f>, line 1)",
     "output_type": "error",
     "traceback": [
      "\u001b[0;36m  File \u001b[0;32m\"<ipython-input-6-7b18d017f89f>\"\u001b[0;36m, line \u001b[0;32m1\u001b[0m\n\u001b[0;31m    def\u001b[0m\n\u001b[0m       ^\u001b[0m\n\u001b[0;31mSyntaxError\u001b[0m\u001b[0;31m:\u001b[0m invalid syntax\n"
     ]
    }
   ],
   "source": [
    "x_95 = [-4.6983, 5.2265]\n",
    "x_99 = [-7.1795, 7.7077]\n",
    "y_95 = [-8.1203, 8.0501]\n",
    "y_99 = [-12.1629, 12.0927]\n",
    "\n",
    "## Get unique receiver and sender. \n",
    "\n",
    "np.unique()\n",
    "\n",
    "\n",
    "count = 1\n",
    "def x_predict_95():\n",
    "    \n",
    "    \n",
    "    "
   ]
  },
  {
   "cell_type": "markdown",
   "metadata": {},
   "source": [
    "## Feature 2: Movement Plausibility Check "
   ]
  },
  {
   "cell_type": "code",
   "execution_count": null,
   "metadata": {},
   "outputs": [],
   "source": []
  }
 ],
 "metadata": {
  "kernelspec": {
   "display_name": "Python 3",
   "language": "python",
   "name": "python3"
  },
  "language_info": {
   "codemirror_mode": {
    "name": "ipython",
    "version": 3
   },
   "file_extension": ".py",
   "mimetype": "text/x-python",
   "name": "python",
   "nbconvert_exporter": "python",
   "pygments_lexer": "ipython3",
   "version": "3.7.3"
  }
 },
 "nbformat": 4,
 "nbformat_minor": 2
}
