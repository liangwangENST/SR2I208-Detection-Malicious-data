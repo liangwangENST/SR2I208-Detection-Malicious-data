{
 "cells": [
  {
   "cell_type": "markdown",
   "metadata": {},
   "source": [
    "## Implementation of RNN\n",
    "In this file, we implement RNN with keras. Firstly, we read the data which has been treated with the file (feature.py). Then we use the 6 feature to training our 15 different models (feature 1, feature 2, feature 3, feature 4, feature 5, feature 6). We try to shuffle the dataset before push them into the model, this can improve the reliability of our model. Finally, we evaluate ours models with test datasets."
   ]
  },
  {
   "cell_type": "markdown",
   "metadata": {},
   "source": [
    "### import libary"
   ]
  },
  {
   "cell_type": "code",
   "execution_count": 1,
   "metadata": {},
   "outputs": [
    {
     "name": "stderr",
     "output_type": "stream",
     "text": [
      "Using TensorFlow backend.\n"
     ]
    }
   ],
   "source": [
    "import pandas as pd \n",
    "import matplotlib.pyplot as plt \n",
    "import numpy as np\n",
    "from sklearn.model_selection import train_test_split\n",
    "import matplotlib.pyplot as plt \n",
    "from keras.models import Sequential\n",
    "from keras.layers import Dense,Activation\n",
    "from keras.layers.recurrent import LSTM\n",
    "from sklearn import model_selection"
   ]
  },
  {
   "cell_type": "markdown",
   "metadata": {},
   "source": [
    "### Read data in the file of attack1 which has 7 features \n",
    "In our case, we didn't use the feature 7 (distance feature) because it maybe affect the performance of model."
   ]
  },
  {
   "cell_type": "code",
   "execution_count": 2,
   "metadata": {},
   "outputs": [
    {
     "data": {
      "text/plain": [
       "(387516, 19)"
      ]
     },
     "execution_count": 2,
     "metadata": {},
     "output_type": "execute_result"
    }
   ],
   "source": [
    "data = pd.read_csv(\"dataset/attack1withlabels_7feature_guodong.csv\")\n",
    "data = data.dropna(axis=0, how=\"any\")#remove invalid data\n",
    "data.shape"
   ]
  },
  {
   "cell_type": "code",
   "execution_count": 3,
   "metadata": {},
   "outputs": [],
   "source": [
    "\n",
    "X = data.iloc[:,12:18] #In our case, we use the feature of 1-6, the feature of distance rejected\n",
    "y = data.iloc[:,11]\n"
   ]
  },
  {
   "cell_type": "markdown",
   "metadata": {},
   "source": [
    "### Construct the model and evaluate \n",
    "In our case, we try to training the model with 15 different training data. And then we take the rest of data to evaluate our model. To prove that our model could classify the test data with high accurrency, firstly, we calculate the ratio of no attack in all the data and we display it in red line. Then we compare it with 15 different the result of test set (blue points). We notice that, it real improve the accurency of prediction.   "
   ]
  },
  {
   "cell_type": "code",
   "execution_count": 4,
   "metadata": {},
   "outputs": [
    {
     "name": "stdout",
     "output_type": "stream",
     "text": [
      "-------------------------------------------------------------------------\n",
      "The index of model is :  0\n",
      "WARNING:tensorflow:From /Library/Frameworks/Python.framework/Versions/3.7/lib/python3.7/site-packages/tensorflow/python/framework/op_def_library.py:263: colocate_with (from tensorflow.python.framework.ops) is deprecated and will be removed in a future version.\n",
      "Instructions for updating:\n",
      "Colocations handled automatically by placer.\n",
      "WARNING:tensorflow:From /Library/Frameworks/Python.framework/Versions/3.7/lib/python3.7/site-packages/keras/backend/tensorflow_backend.py:1238: calling reduce_sum_v1 (from tensorflow.python.ops.math_ops) with keep_dims is deprecated and will be removed in a future version.\n",
      "Instructions for updating:\n",
      "keep_dims is deprecated, use keepdims instead\n",
      "WARNING:tensorflow:From /Library/Frameworks/Python.framework/Versions/3.7/lib/python3.7/site-packages/tensorflow/python/ops/math_ops.py:3066: to_int32 (from tensorflow.python.ops.math_ops) is deprecated and will be removed in a future version.\n",
      "Instructions for updating:\n",
      "Use tf.cast instead.\n",
      "77504/77504 [==============================] - 2s 27us/step\n",
      "-------------------------------------------------------------------------\n",
      "The index of model is :  1\n",
      "77504/77504 [==============================] - 2s 29us/step\n",
      "-------------------------------------------------------------------------\n",
      "The index of model is :  2\n",
      "77504/77504 [==============================] - 2s 30us/step\n",
      "-------------------------------------------------------------------------\n",
      "The index of model is :  3\n",
      "77504/77504 [==============================] - 2s 32us/step\n",
      "-------------------------------------------------------------------------\n",
      "The index of model is :  4\n",
      "77504/77504 [==============================] - 2s 31us/step\n",
      "-------------------------------------------------------------------------\n",
      "The index of model is :  5\n",
      "77504/77504 [==============================] - 3s 33us/step\n",
      "-------------------------------------------------------------------------\n",
      "The index of model is :  6\n",
      "77504/77504 [==============================] - 3s 38us/step\n",
      "-------------------------------------------------------------------------\n",
      "The index of model is :  7\n",
      "77504/77504 [==============================] - 3s 35us/step\n",
      "-------------------------------------------------------------------------\n",
      "The index of model is :  8\n",
      "77504/77504 [==============================] - 3s 36us/step\n",
      "-------------------------------------------------------------------------\n",
      "The index of model is :  9\n",
      "77504/77504 [==============================] - 3s 39us/step\n",
      "-------------------------------------------------------------------------\n",
      "The index of model is :  10\n",
      "77504/77504 [==============================] - 3s 37us/step\n",
      "-------------------------------------------------------------------------\n",
      "The index of model is :  11\n",
      "77504/77504 [==============================] - 3s 41us/step\n",
      "-------------------------------------------------------------------------\n",
      "The index of model is :  12\n",
      "77504/77504 [==============================] - 3s 40us/step\n",
      "-------------------------------------------------------------------------\n",
      "The index of model is :  13\n",
      "77504/77504 [==============================] - 3s 43us/step\n",
      "-------------------------------------------------------------------------\n",
      "The index of model is :  14\n",
      "77504/77504 [==============================] - 3s 45us/step\n"
     ]
    },
    {
     "data": {
      "image/png": "[encoded data removed]",
      "text/plain": [
       "<Figure size 432x288 with 1 Axes>"
      ]
     },
     "metadata": {
      "needs_background": "light"
     },
     "output_type": "display_data"
    },
    {
     "name": "stdout",
     "output_type": "stream",
     "text": [
      "accurrency of test data =  0.8954058285163776\n",
      "The ratio of no attack in all test dataset =  0.6867387489677952\n"
     ]
    }
   ],
   "source": [
    "accurency_list = []\n",
    "itr =15\n",
    "for i in range(itr):\n",
    "    # model implementation\n",
    "    print(\"-------------------------------------------------------------------------\")\n",
    "    print(\"The index of model is : \", i)\n",
    "    # We use the Sequential function in keras to add layer.\n",
    "    model = Sequential()\n",
    "    model.add(LSTM(32, input_shape=(None,6),return_sequences=False))\n",
    "    model.add(Dense(8, input_dim=6))\n",
    "    model.add(Dense(1, activation=\"relu\"))\n",
    "    model.compile(optimizer='adam', loss='binary_crossentropy', metrics=['accuracy'])\n",
    "    #split dataset to training dataset and test dataset with ratio = 0.2. It means that there are 80000 training dataset\n",
    "    # and 20000 test dataset with the order shuffed\n",
    "    X_train, X_test, y_train, y_test = train_test_split( X, y, test_size=.2)\n",
    "    #To transforme the training dataset and test dataset to the forme LSTM\n",
    "    #X train dataset.shape = (80000,6) -> (80000,1,6). In fact, 1 is the timestep, in our case, we fix it with value =1.\n",
    "    X_train = np.reshape(X_train.values, (X_train.shape[0], 1,X_train.shape[1]))\n",
    "    X_test =np.reshape(X_test.values, (X_test.shape[0], 1, X_test.shape[1]))\n",
    "    #fit data\n",
    "    model.fit(X_train,y_train,verbose = 0,epochs=3,batch_size=100)\n",
    "    #evaluation data\n",
    "    cost = model.evaluate(X_test,y_test)\n",
    "    #print('loss \\n',cost[0])\n",
    "    #print('accurency \\n',cost[1])\n",
    "    accurency_list.append(cost[1])\n",
    "plt.scatter(range(itr),accurency_list,label = 'Accurency of test set')\n",
    "plt.hlines(np.average(accurency_list),0,itr,colors=\"b\",linestyles='dashed', label=\"The average of accurrency of test data\")\n",
    "plt.hlines(1-sum(y_test)/y_test.shape[0], 0, itr, colors = \"r\", linestyles = \"dashed\",label=\"The ratio of no attack/all\")\n",
    "plt.legend(loc='best')\n",
    "plt.xlabel(\"iteration\")\n",
    "plt.ylabel(\"accurrency\")\n",
    "plt.show()\n",
    "print(\"accurrency of test data = \", np.average(accurency_list))\n",
    "print(\"The ratio of no attack in all test dataset = \",1-sum(y_test)/y_test.shape[0] )\n"
   ]
  },
  {
   "cell_type": "code",
   "execution_count": null,
   "metadata": {},
   "outputs": [],
   "source": []
  }
 ],
 "metadata": {
  "kernelspec": {
   "display_name": "Python 3",
   "language": "python",
   "name": "python3"
  },
  "language_info": {
   "codemirror_mode": {
    "name": "ipython",
    "version": 3
   },
   "file_extension": ".py",
   "mimetype": "text/x-python",
   "name": "python",
   "nbconvert_exporter": "python",
   "pygments_lexer": "ipython3",
   "version": "3.7.3"
  }
 },
 "nbformat": 4,
 "nbformat_minor": 2
}
