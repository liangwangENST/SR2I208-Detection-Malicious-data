{
 "cells": [
  {
   "cell_type": "markdown",
   "metadata": {},
   "source": [
    "### Guodong SUN & Liang WANG\n",
    "<h1><center>Malicious Data detection based on Neural Network</center></h1>\n",
    "<h3><center>SR2I Projet du filière, supervised by: Jean-Philippe MONTEUUIS</center></h3>\n",
    "<center>17 Juin 2019</center>"
   ]
  },
  {
   "cell_type": "markdown",
   "metadata": {},
   "source": [
    "# Content\n",
    "\n",
    "### 1. [Analyzing the dataset](#paragraph1)\n",
    "### 2. [Extracting the feature vectors](#paragraphe2)\n",
    "### 3. [Training and testing the Neural Network](#paragraphe3)\n",
    "### 4. [Comparison with other models](#paragraphe4)\n",
    "### 5. [Testing the model](#paragraphe5)\n",
    "<br/><br/>\n",
    "Note that all the functions used in this scripts are stored in the 'facilities file', check the file if needed. "
   ]
  },
  {
   "cell_type": "markdown",
   "metadata": {},
   "source": [
    "## 1. Analyzing the dataset <a name = \"paragraph1\"></a>"
   ]
  },
  {
   "cell_type": "code",
   "execution_count": 1,
   "metadata": {},
   "outputs": [
    {
     "name": "stderr",
     "output_type": "stream",
     "text": [
      "Using TensorFlow backend.\n"
     ]
    }
   ],
   "source": [
    "import pandas as pd \n",
    "import matplotlib.pyplot as plt \n",
    "import numpy as np\n",
    "\n",
    "from keras.models import Sequential\n",
    "from keras.layers import Dense,Activation\n",
    "from sklearn.model_selection import train_test_split\n",
    "\n",
    "from ipynb.fs.defs.facilities import *"
   ]
  },
  {
   "cell_type": "code",
   "execution_count": 122,
   "metadata": {},
   "outputs": [],
   "source": [
    "data_file = ['attack1withlabels', 'attack2withlabels', 'attack4withlabels',\n",
    "             'attack8withlabels','attack16withlabels']\n",
    "data_atk1 = read_raw_data(data_file[0])\n",
    "data_atk2 = read_raw_data(data_file[1])\n",
    "data_atk4 = read_raw_data(data_file[2])\n",
    "data_atk8 = read_raw_data(data_file[3])\n",
    "data_atk16 = read_raw_data(data_file[4])\n",
    "\n",
    "data_atk2['Label'] = data_atk2['Label']/2\n",
    "data_atk4['Label'] = data_atk4['Label']/4\n",
    "data_atk8['Label'] = data_atk8['Label']/8\n",
    "data_atk16['Label'] = data_atk16['Label']/16\n",
    "\n",
    "raw_data = [data_atk1, data_atk2, data_atk4, data_atk8, data_atk16]\n",
    "atk_type = [1,2,4,8,16]"
   ]
  },
  {
   "cell_type": "markdown",
   "metadata": {},
   "source": [
    "### 2.1 All the BSM message in which the distance is bigger than range of line-of-sight (800m for this project) is malicious "
   ]
  },
  {
   "cell_type": "code",
   "execution_count": 18,
   "metadata": {},
   "outputs": [
    {
     "name": "stdout",
     "output_type": "stream",
     "text": [
      "For all the data for attack type 1 , The labels are  [1]\n",
      "For all the data for attack type 2 , The labels are  [1]\n",
      "For all the data for attack type 3 , The labels are  [1]\n",
      "For all the data for attack type 4 , The labels are  [1]\n",
      "For all the data for attack type 5 , The labels are  [1]\n"
     ]
    }
   ],
   "source": [
    "for i in range(5):\n",
    "    data = raw_data[i]\n",
    "    # We first get the index of the BSM in which the distance is above 800.\n",
    "    Plus800_index = check_range(data, 800)\n",
    "    # We get the all the labels of all the BSM message.\n",
    "    data_Plus800 = data.iloc[Plus800_index]\n",
    "    label_this = np.unique(np.array(data_Plus800.iloc[:,11]))\n",
    "    print('For all the data for attack type', atk_type[i], ', The labels are ', label_this)"
   ]
  },
  {
   "cell_type": "markdown",
   "metadata": {},
   "source": [
    "### 2.2 For a communication session between a sender and a receiver, all the message are either malicious or normal"
   ]
  },
  {
   "cell_type": "code",
   "execution_count": 51,
   "metadata": {},
   "outputs": [
    {
     "name": "stdout",
     "output_type": "stream",
     "text": [
      "************For the attack type 1 ************\n",
      "There are  387516 rows in the dataset\n",
      "267305 rows are normal, i.e.,  0.689790873151044 percent of rows in the dataset\n",
      "267305 rows are malicious, i.e.,  0.689790873151044 percent of rows in the dataset\n",
      "There are  30588 sessions in the dataset\n",
      "20973 session are normal, i.e.,  0.6856610435464888 percent of sessions in the dataset \n",
      "9615 session are malicious, i.e.,  0.3143389564535112 percent of sessions in the dataset \n",
      "For all the session, there are only 1 kind of label, in other word, a session is whether attack or normal\n",
      "************For the attack type 2 ************\n",
      "There are  387516 rows in the dataset\n",
      "267305 rows are normal, i.e.,  0.689790873151044 percent of rows in the dataset\n",
      "387516 rows are malicious, i.e.,  1.0 percent of rows in the dataset\n",
      "There are  30588 sessions in the dataset\n",
      "20973 session are normal, i.e.,  0.6856610435464888 percent of sessions in the dataset \n",
      "9615 session are malicious, i.e.,  0.3143389564535112 percent of sessions in the dataset \n",
      "For all the session, there are only 1 kind of label, in other word, a session is whether attack or normal\n",
      "************For the attack type 4 ************\n",
      "There are  387634 rows in the dataset\n",
      "251965 rows are normal, i.e.,  0.6500074812838915 percent of rows in the dataset\n",
      "387634 rows are malicious, i.e.,  1.0 percent of rows in the dataset\n",
      "There are  30642 sessions in the dataset\n",
      "20075 session are normal, i.e.,  0.6551465309052934 percent of sessions in the dataset \n",
      "10567 session are malicious, i.e.,  0.3448534690947066 percent of sessions in the dataset \n",
      "For all the session, there are only 1 kind of label, in other word, a session is whether attack or normal\n",
      "************For the attack type 8 ************\n",
      "There are  386747 rows in the dataset\n",
      "292295 rows are normal, i.e.,  0.7557783253651612 percent of rows in the dataset\n",
      "386747 rows are malicious, i.e.,  1.0 percent of rows in the dataset\n",
      "There are  30596 sessions in the dataset\n",
      "22791 session are normal, i.e.,  0.7449012942868348 percent of sessions in the dataset \n",
      "7805 session are malicious, i.e.,  0.2550987057131651 percent of sessions in the dataset \n",
      "For all the session, there are only 1 kind of label, in other word, a session is whether attack or normal\n",
      "************For the attack type 16 ************\n",
      "There are  386834 rows in the dataset\n",
      "273927 rows are normal, i.e.,  0.7081254491590708 percent of rows in the dataset\n",
      "386834 rows are malicious, i.e.,  1.0 percent of rows in the dataset\n",
      "There are  30601 sessions in the dataset\n",
      "21531 session are normal, i.e.,  0.7036044573706741 percent of sessions in the dataset \n",
      "9070 session are malicious, i.e.,  0.2963955426293258 percent of sessions in the dataset \n",
      "For all the session, there are only 1 kind of label, in other word, a session is whether attack or normal\n"
     ]
    }
   ],
   "source": [
    "for i in range(5):\n",
    "    data = raw_data[i]\n",
    "    print('************For the attack type',atk_type[i], '************' )\n",
    "    # we show the statistics of the dataset. \n",
    "    statistics = check_session(data)"
   ]
  },
  {
   "cell_type": "markdown",
   "metadata": {},
   "source": [
    "<br/><br/>\n",
    "## 2. Extracting the feature vectors <a name = \"paragraphe2\" ></a>"
   ]
  },
  {
   "cell_type": "markdown",
   "metadata": {},
   "source": [
    "We extract 6 features from the paper, "
   ]
  },
  {
   "cell_type": "code",
   "execution_count": null,
   "metadata": {},
   "outputs": [],
   "source": [
    "for i in range(5):\n",
    "    data = raw_data[i]\n",
    "    data_with_features = add_feature_vectors(data)\n",
    "    put_csv(data_with_features, atk_type[i])"
   ]
  },
  {
   "cell_type": "markdown",
   "metadata": {},
   "source": [
    "We save the vectors in csv file for further processing."
   ]
  },
  {
   "cell_type": "markdown",
   "metadata": {},
   "source": [
    "<br/><br/>\n",
    "## 3. Training and testing the Neural Network <a name = \"paragraphe3\" ></a>"
   ]
  },
  {
   "cell_type": "code",
   "execution_count": 57,
   "metadata": {},
   "outputs": [],
   "source": [
    "vector_file = ['attack1with7FeatureVector', 'attack2with7FeatureVector', 'attack4with7FeatureVector',\n",
    "             'attack8with7FeatureVector','attack16with7FeatureVector']\n",
    "\n",
    "data_vector1 = read_vector_data(vector_file[0])\n",
    "data_vector2 = read_vector_data(vector_file[1])\n",
    "data_vector4 = read_vector_data(vector_file[2])\n",
    "data_vector8 = read_vector_data(vector_file[3])\n",
    "data_vector16 = read_vector_data(vector_file[4])\n",
    "\n",
    "data_vector2['Label'] = data_vector2['Label']/2\n",
    "data_vector4['Label'] = data_vector4['Label']/4\n",
    "data_vector8['Label'] = data_vector8['Label']/8\n",
    "data_vector16['Label'] = data_vector16['Label']/16"
   ]
  },
  {
   "cell_type": "markdown",
   "metadata": {},
   "source": [
    "### 3.1 Check "
   ]
  },
  {
   "cell_type": "code",
   "execution_count": 126,
   "metadata": {},
   "outputs": [],
   "source": [
    "Hyper_parameter = ['sigmoid', 'mean_absolute_error', 'RMSprop', 'binary_accuracy']\n",
    "NN_structure = [64, 16, 1]"
   ]
  },
  {
   "cell_type": "code",
   "execution_count": 127,
   "metadata": {},
   "outputs": [
    {
     "name": "stdout",
     "output_type": "stream",
     "text": [
      "Epoch 1/10\n",
      "24470/24470 [==============================] - 1s 52us/step - loss: 0.2398 - binary_accuracy: 0.8181\n",
      "Epoch 2/10\n",
      "24470/24470 [==============================] - 0s 13us/step - loss: 0.0767 - binary_accuracy: 0.9369\n",
      "Epoch 3/10\n",
      "24470/24470 [==============================] - 0s 13us/step - loss: 0.0485 - binary_accuracy: 0.9583\n",
      "Epoch 4/10\n",
      "24470/24470 [==============================] - 0s 13us/step - loss: 0.0270 - binary_accuracy: 0.9800\n",
      "Epoch 5/10\n",
      "24470/24470 [==============================] - 0s 13us/step - loss: 0.0177 - binary_accuracy: 0.9862\n",
      "Epoch 6/10\n",
      "24470/24470 [==============================] - 0s 14us/step - loss: 0.0143 - binary_accuracy: 0.9873\n",
      "Epoch 7/10\n",
      "24470/24470 [==============================] - 0s 13us/step - loss: 0.0129 - binary_accuracy: 0.9877\n",
      "Epoch 8/10\n",
      "24470/24470 [==============================] - 0s 14us/step - loss: 0.0124 - binary_accuracy: 0.9879\n",
      "Epoch 9/10\n",
      "24470/24470 [==============================] - 0s 13us/step - loss: 0.0118 - binary_accuracy: 0.9885\n",
      "Epoch 10/10\n",
      "24470/24470 [==============================] - 0s 13us/step - loss: 0.0118 - binary_accuracy: 0.9884\n",
      "***********************************************\n",
      "For this model, the CCR is 0.987741091860085 , the Precision is 1.0 and the Recall is 0.9612803304078472\n",
      "There are  30588 session in total\n",
      "The training dataset has, 24470 sessions, there are  [0.31377197] malicious data, and [0.68622803] normal data\n",
      "The testing dataset has 6118 sessions, and there are  [0.31660673] malicious data, and [0.68339327] normal data\n",
      "The prediction includes  [0.3043478] malicious data, and [0.6956522] normal data\n"
     ]
    }
   ],
   "source": [
    "model1 = NN_model(data_vector1, Hyper_parameter, NN_structure)"
   ]
  },
  {
   "cell_type": "code",
   "execution_count": 128,
   "metadata": {},
   "outputs": [
    {
     "name": "stdout",
     "output_type": "stream",
     "text": [
      "Epoch 1/10\n",
      "24470/24470 [==============================] - 1s 52us/step - loss: 0.3256 - binary_accuracy: 0.6862\n",
      "Epoch 2/10\n",
      "24470/24470 [==============================] - 0s 13us/step - loss: 0.3143 - binary_accuracy: 0.6862\n",
      "Epoch 3/10\n",
      "24470/24470 [==============================] - 0s 14us/step - loss: 0.3138 - binary_accuracy: 0.6862\n",
      "Epoch 4/10\n",
      "24470/24470 [==============================] - 0s 13us/step - loss: 0.3138 - binary_accuracy: 0.6862\n",
      "Epoch 5/10\n",
      "24470/24470 [==============================] - 0s 13us/step - loss: 0.3138 - binary_accuracy: 0.6862\n",
      "Epoch 6/10\n",
      "24470/24470 [==============================] - 0s 13us/step - loss: 0.3138 - binary_accuracy: 0.6862\n",
      "Epoch 7/10\n",
      "24470/24470 [==============================] - 0s 13us/step - loss: 0.3138 - binary_accuracy: 0.6862\n",
      "Epoch 8/10\n",
      "24470/24470 [==============================] - 0s 13us/step - loss: 0.3138 - binary_accuracy: 0.6862\n",
      "Epoch 9/10\n",
      "24470/24470 [==============================] - 0s 13us/step - loss: 0.3138 - binary_accuracy: 0.6862\n",
      "Epoch 10/10\n",
      "24470/24470 [==============================] - 0s 13us/step - loss: 0.3138 - binary_accuracy: 0.6862\n",
      "***********************************************\n",
      "All the prediction is normal\n",
      "For this model, the CCR is 0.6835567178816607 , the Precision is 0 and the Recall is 0.0\n",
      "There are  30588 session in total\n",
      "The training dataset has, 24470 sessions, there are  [0.31381283] malicious data, and [0.68618717] normal data\n",
      "The testing dataset has 6118 sessions, and there are  [0.31644328] malicious data, and [0.68355672] normal data\n",
      "The prediction includes  [0.] malicious data, and [1.] normal data\n"
     ]
    }
   ],
   "source": [
    "model2 = NN_model(data_vector2, Hyper_parameter, NN_structure)"
   ]
  },
  {
   "cell_type": "code",
   "execution_count": 129,
   "metadata": {},
   "outputs": [
    {
     "name": "stdout",
     "output_type": "stream",
     "text": [
      "Epoch 1/10\n",
      "24513/24513 [==============================] - 1s 54us/step - loss: 0.2266 - binary_accuracy: 0.8538\n",
      "Epoch 2/10\n",
      "24513/24513 [==============================] - 0s 14us/step - loss: 0.0609 - binary_accuracy: 0.9559\n",
      "Epoch 3/10\n",
      "24513/24513 [==============================] - 0s 14us/step - loss: 0.0395 - binary_accuracy: 0.9631\n",
      "Epoch 4/10\n",
      "24513/24513 [==============================] - 0s 14us/step - loss: 0.0378 - binary_accuracy: 0.9631\n",
      "Epoch 5/10\n",
      "24513/24513 [==============================] - 0s 14us/step - loss: 0.0376 - binary_accuracy: 0.9629\n",
      "Epoch 6/10\n",
      "24513/24513 [==============================] - 0s 13us/step - loss: 0.0370 - binary_accuracy: 0.9633\n",
      "Epoch 7/10\n",
      "24513/24513 [==============================] - 0s 13us/step - loss: 0.0367 - binary_accuracy: 0.9636\n",
      "Epoch 8/10\n",
      "24513/24513 [==============================] - 0s 13us/step - loss: 0.0368 - binary_accuracy: 0.9635\n",
      "Epoch 9/10\n",
      "24513/24513 [==============================] - 0s 13us/step - loss: 0.0372 - binary_accuracy: 0.9630\n",
      "Epoch 10/10\n",
      "24513/24513 [==============================] - 0s 13us/step - loss: 0.0370 - binary_accuracy: 0.9632\n",
      "***********************************************\n",
      "For this model, the CCR is 0.9619840104421602 , the Precision is 0.9984334203655353 and the Recall is 0.892623716153128\n",
      "There are  30642 session in total\n",
      "The training dataset has, 24513 sessions, there are  [0.34369518] malicious data, and [0.65630482] normal data\n",
      "The testing dataset has 6129 sessions, and there are  [0.34948605] malicious data, and [0.65051395] normal data\n",
      "The prediction includes  [0.312449] malicious data, and [0.687551] normal data\n"
     ]
    }
   ],
   "source": [
    "model4 = NN_model(data_vector4, Hyper_parameter, NN_structure)"
   ]
  },
  {
   "cell_type": "code",
   "execution_count": 130,
   "metadata": {},
   "outputs": [
    {
     "name": "stdout",
     "output_type": "stream",
     "text": [
      "Epoch 1/10\n",
      "24476/24476 [==============================] - 1s 54us/step - loss: 0.2741 - binary_accuracy: 0.7698\n",
      "Epoch 2/10\n",
      "24476/24476 [==============================] - 0s 14us/step - loss: 0.0941 - binary_accuracy: 0.9434\n",
      "Epoch 3/10\n",
      "24476/24476 [==============================] - 0s 13us/step - loss: 0.0525 - binary_accuracy: 0.9591\n",
      "Epoch 4/10\n",
      "24476/24476 [==============================] - 0s 14us/step - loss: 0.0363 - binary_accuracy: 0.9689\n",
      "Epoch 5/10\n",
      "24476/24476 [==============================] - 0s 13us/step - loss: 0.0321 - binary_accuracy: 0.9700\n",
      "Epoch 6/10\n",
      "24476/24476 [==============================] - 0s 15us/step - loss: 0.0305 - binary_accuracy: 0.9707\n",
      "Epoch 7/10\n",
      "24476/24476 [==============================] - 0s 13us/step - loss: 0.0300 - binary_accuracy: 0.9709\n",
      "Epoch 8/10\n",
      "24476/24476 [==============================] - 0s 14us/step - loss: 0.0291 - binary_accuracy: 0.9720\n",
      "Epoch 9/10\n",
      "24476/24476 [==============================] - 0s 14us/step - loss: 0.0286 - binary_accuracy: 0.9721\n",
      "Epoch 10/10\n",
      "24476/24476 [==============================] - 0s 14us/step - loss: 0.0283 - binary_accuracy: 0.9724\n",
      "***********************************************\n",
      "For this model, the CCR is 0.9741830065359477 , the Precision is 0.9992716678805535 and the Recall is 0.8973185088293002\n",
      "There are  30596 session in total\n",
      "The training dataset has, 24476 sessions, there are  [0.25641445] malicious data, and [0.74358555] normal data\n",
      "The testing dataset has 6120 sessions, and there are  [0.2498366] malicious data, and [0.7501634] normal data\n",
      "The prediction includes  [0.2243464] malicious data, and [0.7756536] normal data\n"
     ]
    }
   ],
   "source": [
    "model8 = NN_model(data_vector8, Hyper_parameter, NN_structure)"
   ]
  },
  {
   "cell_type": "code",
   "execution_count": 131,
   "metadata": {},
   "outputs": [
    {
     "name": "stdout",
     "output_type": "stream",
     "text": [
      "Epoch 1/10\n",
      "24480/24480 [==============================] - 1s 57us/step - loss: 0.1979 - binary_accuracy: 0.8568\n",
      "Epoch 2/10\n",
      "24480/24480 [==============================] - 0s 14us/step - loss: 0.0825 - binary_accuracy: 0.9302\n",
      "Epoch 3/10\n",
      "24480/24480 [==============================] - 0s 14us/step - loss: 0.0634 - binary_accuracy: 0.9421\n",
      "Epoch 4/10\n",
      "24480/24480 [==============================] - 0s 15us/step - loss: 0.0506 - binary_accuracy: 0.9540\n",
      "Epoch 5/10\n",
      "24480/24480 [==============================] - 0s 14us/step - loss: 0.0462 - binary_accuracy: 0.9569\n",
      "Epoch 6/10\n",
      "24480/24480 [==============================] - 0s 14us/step - loss: 0.0418 - binary_accuracy: 0.9611\n",
      "Epoch 7/10\n",
      "24480/24480 [==============================] - 0s 13us/step - loss: 0.0392 - binary_accuracy: 0.9635\n",
      "Epoch 8/10\n",
      "24480/24480 [==============================] - 0s 13us/step - loss: 0.0381 - binary_accuracy: 0.9636\n",
      "Epoch 9/10\n",
      "24480/24480 [==============================] - 0s 13us/step - loss: 0.0366 - binary_accuracy: 0.9647\n",
      "Epoch 10/10\n",
      "24480/24480 [==============================] - 0s 13us/step - loss: 0.0363 - binary_accuracy: 0.9648\n",
      "***********************************************\n",
      "For this model, the CCR is 0.9705930403528835 , the Precision is 0.9878493317132442 and the Recall is 0.910414333706607\n",
      "There are  30601 session in total\n",
      "The training dataset has, 24480 sessions, there are  [0.29754902] malicious data, and [0.70245098] normal data\n",
      "The testing dataset has 6121 sessions, and there are  [0.29178239] malicious data, and [0.70821761] normal data\n",
      "The prediction includes  [0.26891032] malicious data, and [0.7310897] normal data\n"
     ]
    }
   ],
   "source": [
    "model16 = NN_model(data_vector16, Hyper_parameter, NN_structure)"
   ]
  },
  {
   "cell_type": "code",
   "execution_count": 132,
   "metadata": {},
   "outputs": [
    {
     "name": "stdout",
     "output_type": "stream",
     "text": [
      "Epoch 1/10\n",
      "122412/122412 [==============================] - 3s 23us/step - loss: 0.1359 - binary_accuracy: 0.8763\n",
      "Epoch 2/10\n",
      "122412/122412 [==============================] - 2s 14us/step - loss: 0.0810 - binary_accuracy: 0.9206\n",
      "Epoch 3/10\n",
      "122412/122412 [==============================] - 2s 14us/step - loss: 0.0791 - binary_accuracy: 0.9215\n",
      "Epoch 4/10\n",
      "122412/122412 [==============================] - 2s 14us/step - loss: 0.0789 - binary_accuracy: 0.9215\n",
      "Epoch 5/10\n",
      "122412/122412 [==============================] - 2s 14us/step - loss: 0.0783 - binary_accuracy: 0.9220\n",
      "Epoch 6/10\n",
      "122412/122412 [==============================] - 2s 14us/step - loss: 0.0784 - binary_accuracy: 0.9220\n",
      "Epoch 7/10\n",
      "122412/122412 [==============================] - 2s 14us/step - loss: 0.0782 - binary_accuracy: 0.9221\n",
      "Epoch 8/10\n",
      "122412/122412 [==============================] - 2s 14us/step - loss: 0.0780 - binary_accuracy: 0.9222\n",
      "Epoch 9/10\n",
      "122412/122412 [==============================] - 2s 15us/step - loss: 0.0779 - binary_accuracy: 0.9223\n",
      "Epoch 10/10\n",
      "122412/122412 [==============================] - 2s 14us/step - loss: 0.0778 - binary_accuracy: 0.9225\n",
      "***********************************************\n",
      "For this model, the CCR is 0.9265104728294612 , the Precision is 0.9963462619449128 and the Recall is 0.7613014066358853\n",
      "There are  153015 session in total\n",
      "The training dataset has, 122412 sessions, there are  [0.30519067] malicious data, and [0.69480933] normal data\n",
      "The testing dataset has 30603 sessions, and there are  [0.30431657] malicious data, and [0.69568343] normal data\n",
      "The prediction includes  [0.23252623] malicious data, and [0.76747376] normal data\n"
     ]
    }
   ],
   "source": [
    "data_overall = data_vector1.append([data_vector2, data_vector4, data_vector8, data_vector16])\n",
    "model_all = NN_model(data_overall, Hyper_parameter, NN_structure)"
   ]
  },
  {
   "cell_type": "code",
   "execution_count": 133,
   "metadata": {},
   "outputs": [],
   "source": [
    "model_trained = [model1, model2, model4, model8, model16]"
   ]
  },
  {
   "cell_type": "markdown",
   "metadata": {},
   "source": [
    "### Classfication\n",
    "The first step is identify whether the session is normal or malicious. Now we train a second model to classify the five types of attack."
   ]
  },
  {
   "cell_type": "code",
   "execution_count": 72,
   "metadata": {},
   "outputs": [],
   "source": [
    "malicicous_1 = data_vector1.loc[(data_vector1['Label']==1)]\n",
    "malicicous_2 = data_vector2.loc[(data_vector2['Label']==1)]\n",
    "malicicous_4 = data_vector4.loc[(data_vector4['Label']==1)]\n",
    "malicicous_8 = data_vector8.loc[(data_vector8['Label']==1)]\n",
    "malicicous_16 = data_vector16.loc[(data_vector16['Label']==1)]\n",
    "\n",
    "malicious_data_overall = malicicous_1.append([malicicous_2, malicicous_4, malicicous_8, malicicous_16])\n",
    "labels_classfication = to_labels(malicicous_1, malicicous_2, malicicous_4, malicicous_8, malicicous_16)"
   ]
  },
  {
   "cell_type": "code",
   "execution_count": 97,
   "metadata": {},
   "outputs": [
    {
     "name": "stdout",
     "output_type": "stream",
     "text": [
      "Epoch 1/20\n",
      "37337/37337 [==============================] - 2s 41us/step - loss: 1.1565 - categorical_accuracy: 0.5686\n",
      "Epoch 2/20\n",
      "37337/37337 [==============================] - 1s 15us/step - loss: 0.6428 - categorical_accuracy: 0.7673\n",
      "Epoch 3/20\n",
      "37337/37337 [==============================] - 1s 15us/step - loss: 0.4872 - categorical_accuracy: 0.8019\n",
      "Epoch 4/20\n",
      "37337/37337 [==============================] - 1s 15us/step - loss: 0.4369 - categorical_accuracy: 0.8132\n",
      "Epoch 5/20\n",
      "37337/37337 [==============================] - 1s 15us/step - loss: 0.4033 - categorical_accuracy: 0.8216\n",
      "Epoch 6/20\n",
      "37337/37337 [==============================] - 1s 15us/step - loss: 0.3846 - categorical_accuracy: 0.8259\n",
      "Epoch 7/20\n",
      "37337/37337 [==============================] - 1s 15us/step - loss: 0.3732 - categorical_accuracy: 0.8310\n",
      "Epoch 8/20\n",
      "37337/37337 [==============================] - 1s 15us/step - loss: 0.3619 - categorical_accuracy: 0.8352\n",
      "Epoch 9/20\n",
      "37337/37337 [==============================] - 1s 15us/step - loss: 0.3572 - categorical_accuracy: 0.8359\n",
      "Epoch 10/20\n",
      "37337/37337 [==============================] - 1s 16us/step - loss: 0.3529 - categorical_accuracy: 0.8377\n",
      "Epoch 11/20\n",
      "37337/37337 [==============================] - 1s 15us/step - loss: 0.3466 - categorical_accuracy: 0.8407\n",
      "Epoch 12/20\n",
      "37337/37337 [==============================] - 1s 15us/step - loss: 0.3444 - categorical_accuracy: 0.8417\n",
      "Epoch 13/20\n",
      "37337/37337 [==============================] - 1s 15us/step - loss: 0.3418 - categorical_accuracy: 0.8440\n",
      "Epoch 14/20\n",
      "37337/37337 [==============================] - 1s 15us/step - loss: 0.3386 - categorical_accuracy: 0.8440\n",
      "Epoch 15/20\n",
      "37337/37337 [==============================] - 1s 15us/step - loss: 0.3379 - categorical_accuracy: 0.8444\n",
      "Epoch 16/20\n",
      "37337/37337 [==============================] - 1s 15us/step - loss: 0.3352 - categorical_accuracy: 0.8458\n",
      "Epoch 17/20\n",
      "37337/37337 [==============================] - 1s 15us/step - loss: 0.3350 - categorical_accuracy: 0.8462\n",
      "Epoch 18/20\n",
      "37337/37337 [==============================] - 1s 15us/step - loss: 0.3330 - categorical_accuracy: 0.8457\n",
      "Epoch 19/20\n",
      "37337/37337 [==============================] - 1s 15us/step - loss: 0.3307 - categorical_accuracy: 0.8465\n",
      "Epoch 20/20\n",
      "37337/37337 [==============================] - 1s 15us/step - loss: 0.3294 - categorical_accuracy: 0.8466\n",
      "[[7.61016071e-01 4.14722654e-03 8.13893209e-02 2.59201659e-02\n",
      "  1.27527216e-01]\n",
      " [0.00000000e+00 8.82702703e-01 1.18918919e-02 9.13513514e-02\n",
      "  1.40540541e-02]\n",
      " [2.28102190e-03 0.00000000e+00 9.95437956e-01 1.82481752e-03\n",
      "  4.56204380e-04]\n",
      " [0.00000000e+00 1.25944584e-03 6.29722922e-03 9.81108312e-01\n",
      "  1.13350126e-02]\n",
      " [2.45495495e-01 2.81531532e-02 3.60360360e-02 8.89639640e-02\n",
      "  6.01351351e-01]]\n"
     ]
    }
   ],
   "source": [
    "Hyper_parameter = ['sigmoid', 'categorical_crossentropy', 'RMSprop', 'categorical_accuracy']\n",
    "NN_structure = [128, 32, 5]\n",
    "\n",
    "model_classification = Classification_model(malicious_data_overall, labels_classfication, Hyper_parameter, NN_structure)"
   ]
  },
  {
   "cell_type": "markdown",
   "metadata": {},
   "source": [
    "<br/><br/>\n",
    "## 4. Comparison with other models <a name = \"paragraphe4\"></a>"
   ]
  },
  {
   "cell_type": "markdown",
   "metadata": {},
   "source": [
    "This part is done by Liang and show in separate file."
   ]
  },
  {
   "cell_type": "markdown",
   "metadata": {},
   "source": [
    "<br/><br/>\n",
    "## 5. Testing the model <a name=\"paragraphe5\"></a>"
   ]
  },
  {
   "cell_type": "markdown",
   "metadata": {},
   "source": [
    "We randomly choose a session for validating the models."
   ]
  },
  {
   "cell_type": "code",
   "execution_count": 150,
   "metadata": {},
   "outputs": [
    {
     "name": "stdout",
     "output_type": "stream",
     "text": [
      "The session we randomly choose from the dataset 16  is shown as follows\n"
     ]
    },
    {
     "data": {
      "text/html": [
       "<div>\n",
       "<style scoped>\n",
       "    .dataframe tbody tr th:only-of-type {\n",
       "        vertical-align: middle;\n",
       "    }\n",
       "\n",
       "    .dataframe tbody tr th {\n",
       "        vertical-align: top;\n",
       "    }\n",
       "\n",
       "    .dataframe thead th {\n",
       "        text-align: right;\n",
       "    }\n",
       "</style>\n",
       "<table border=\"1\" class=\"dataframe\">\n",
       "  <thead>\n",
       "    <tr style=\"text-align: right;\">\n",
       "      <th></th>\n",
       "      <th>re_time</th>\n",
       "      <th>re_ID</th>\n",
       "      <th>re_x</th>\n",
       "      <th>re_y</th>\n",
       "      <th>tr_time</th>\n",
       "      <th>tr_ID</th>\n",
       "      <th>tr_x</th>\n",
       "      <th>tr_y</th>\n",
       "      <th>tr_vx</th>\n",
       "      <th>tr_vy</th>\n",
       "      <th>RSSI</th>\n",
       "      <th>Label</th>\n",
       "    </tr>\n",
       "  </thead>\n",
       "  <tbody>\n",
       "    <tr>\n",
       "      <th>353306</th>\n",
       "      <td>21824</td>\n",
       "      <td>2446</td>\n",
       "      <td>3800.3</td>\n",
       "      <td>5216.8</td>\n",
       "      <td>21824</td>\n",
       "      <td>2455</td>\n",
       "      <td>3634.4</td>\n",
       "      <td>5252.7</td>\n",
       "      <td>-4.402300</td>\n",
       "      <td>28.221</td>\n",
       "      <td>9.917300e-09</td>\n",
       "      <td>1.0</td>\n",
       "    </tr>\n",
       "    <tr>\n",
       "      <th>353372</th>\n",
       "      <td>21827</td>\n",
       "      <td>2446</td>\n",
       "      <td>3810.3</td>\n",
       "      <td>5255.5</td>\n",
       "      <td>21827</td>\n",
       "      <td>2455</td>\n",
       "      <td>3630.0</td>\n",
       "      <td>5280.9</td>\n",
       "      <td>-3.275900</td>\n",
       "      <td>28.385</td>\n",
       "      <td>1.942600e-08</td>\n",
       "      <td>1.0</td>\n",
       "    </tr>\n",
       "    <tr>\n",
       "      <th>353389</th>\n",
       "      <td>21828</td>\n",
       "      <td>2446</td>\n",
       "      <td>3799.5</td>\n",
       "      <td>5258.9</td>\n",
       "      <td>21828</td>\n",
       "      <td>2455</td>\n",
       "      <td>3630.0</td>\n",
       "      <td>5280.9</td>\n",
       "      <td>-3.272900</td>\n",
       "      <td>28.359</td>\n",
       "      <td>1.756600e-08</td>\n",
       "      <td>1.0</td>\n",
       "    </tr>\n",
       "    <tr>\n",
       "      <th>353412</th>\n",
       "      <td>21829</td>\n",
       "      <td>2446</td>\n",
       "      <td>3788.4</td>\n",
       "      <td>5258.3</td>\n",
       "      <td>21829</td>\n",
       "      <td>2455</td>\n",
       "      <td>3630.0</td>\n",
       "      <td>5280.9</td>\n",
       "      <td>-3.271600</td>\n",
       "      <td>28.348</td>\n",
       "      <td>6.052300e-09</td>\n",
       "      <td>1.0</td>\n",
       "    </tr>\n",
       "    <tr>\n",
       "      <th>353454</th>\n",
       "      <td>21831</td>\n",
       "      <td>2446</td>\n",
       "      <td>3767.3</td>\n",
       "      <td>5249.9</td>\n",
       "      <td>21831</td>\n",
       "      <td>2455</td>\n",
       "      <td>3630.0</td>\n",
       "      <td>5280.9</td>\n",
       "      <td>-3.282700</td>\n",
       "      <td>28.444</td>\n",
       "      <td>7.246100e-09</td>\n",
       "      <td>1.0</td>\n",
       "    </tr>\n",
       "    <tr>\n",
       "      <th>353479</th>\n",
       "      <td>21832</td>\n",
       "      <td>2446</td>\n",
       "      <td>3756.9</td>\n",
       "      <td>5245.4</td>\n",
       "      <td>21832</td>\n",
       "      <td>2455</td>\n",
       "      <td>3630.0</td>\n",
       "      <td>5280.9</td>\n",
       "      <td>-3.281900</td>\n",
       "      <td>28.437</td>\n",
       "      <td>5.523700e-09</td>\n",
       "      <td>1.0</td>\n",
       "    </tr>\n",
       "    <tr>\n",
       "      <th>353501</th>\n",
       "      <td>21833</td>\n",
       "      <td>2446</td>\n",
       "      <td>3746.5</td>\n",
       "      <td>5241.0</td>\n",
       "      <td>21833</td>\n",
       "      <td>2455</td>\n",
       "      <td>3630.0</td>\n",
       "      <td>5280.9</td>\n",
       "      <td>-2.333300</td>\n",
       "      <td>28.484</td>\n",
       "      <td>4.029700e-09</td>\n",
       "      <td>1.0</td>\n",
       "    </tr>\n",
       "    <tr>\n",
       "      <th>353568</th>\n",
       "      <td>21836</td>\n",
       "      <td>2446</td>\n",
       "      <td>3714.9</td>\n",
       "      <td>5228.3</td>\n",
       "      <td>21836</td>\n",
       "      <td>2455</td>\n",
       "      <td>3630.0</td>\n",
       "      <td>5280.9</td>\n",
       "      <td>-2.331200</td>\n",
       "      <td>28.458</td>\n",
       "      <td>3.206400e-09</td>\n",
       "      <td>1.0</td>\n",
       "    </tr>\n",
       "    <tr>\n",
       "      <th>353614</th>\n",
       "      <td>21838</td>\n",
       "      <td>2446</td>\n",
       "      <td>3693.9</td>\n",
       "      <td>5219.9</td>\n",
       "      <td>21838</td>\n",
       "      <td>2455</td>\n",
       "      <td>3630.0</td>\n",
       "      <td>5280.9</td>\n",
       "      <td>-1.192300</td>\n",
       "      <td>28.557</td>\n",
       "      <td>2.644700e-09</td>\n",
       "      <td>1.0</td>\n",
       "    </tr>\n",
       "    <tr>\n",
       "      <th>353639</th>\n",
       "      <td>21839</td>\n",
       "      <td>2446</td>\n",
       "      <td>3683.1</td>\n",
       "      <td>5216.3</td>\n",
       "      <td>21839</td>\n",
       "      <td>2455</td>\n",
       "      <td>3630.0</td>\n",
       "      <td>5280.9</td>\n",
       "      <td>-1.189400</td>\n",
       "      <td>28.488</td>\n",
       "      <td>2.872700e-09</td>\n",
       "      <td>1.0</td>\n",
       "    </tr>\n",
       "    <tr>\n",
       "      <th>353662</th>\n",
       "      <td>21840</td>\n",
       "      <td>2446</td>\n",
       "      <td>3672.3</td>\n",
       "      <td>5213.2</td>\n",
       "      <td>21840</td>\n",
       "      <td>2455</td>\n",
       "      <td>3630.0</td>\n",
       "      <td>5280.9</td>\n",
       "      <td>-1.189100</td>\n",
       "      <td>28.480</td>\n",
       "      <td>2.892100e-09</td>\n",
       "      <td>1.0</td>\n",
       "    </tr>\n",
       "    <tr>\n",
       "      <th>353783</th>\n",
       "      <td>21844</td>\n",
       "      <td>2446</td>\n",
       "      <td>3627.8</td>\n",
       "      <td>5204.9</td>\n",
       "      <td>21844</td>\n",
       "      <td>2455</td>\n",
       "      <td>3630.0</td>\n",
       "      <td>5280.9</td>\n",
       "      <td>-0.027684</td>\n",
       "      <td>28.533</td>\n",
       "      <td>2.037600e-09</td>\n",
       "      <td>1.0</td>\n",
       "    </tr>\n",
       "    <tr>\n",
       "      <th>353819</th>\n",
       "      <td>21845</td>\n",
       "      <td>2446</td>\n",
       "      <td>3616.6</td>\n",
       "      <td>5203.4</td>\n",
       "      <td>21845</td>\n",
       "      <td>2455</td>\n",
       "      <td>3630.0</td>\n",
       "      <td>5280.9</td>\n",
       "      <td>-0.027703</td>\n",
       "      <td>28.553</td>\n",
       "      <td>1.530500e-09</td>\n",
       "      <td>1.0</td>\n",
       "    </tr>\n",
       "  </tbody>\n",
       "</table>\n",
       "</div>"
      ],
      "text/plain": [
       "        re_time  re_ID    re_x    re_y  tr_time  tr_ID    tr_x    tr_y  \\\n",
       "353306    21824   2446  3800.3  5216.8    21824   2455  3634.4  5252.7   \n",
       "353372    21827   2446  3810.3  5255.5    21827   2455  3630.0  5280.9   \n",
       "353389    21828   2446  3799.5  5258.9    21828   2455  3630.0  5280.9   \n",
       "353412    21829   2446  3788.4  5258.3    21829   2455  3630.0  5280.9   \n",
       "353454    21831   2446  3767.3  5249.9    21831   2455  3630.0  5280.9   \n",
       "353479    21832   2446  3756.9  5245.4    21832   2455  3630.0  5280.9   \n",
       "353501    21833   2446  3746.5  5241.0    21833   2455  3630.0  5280.9   \n",
       "353568    21836   2446  3714.9  5228.3    21836   2455  3630.0  5280.9   \n",
       "353614    21838   2446  3693.9  5219.9    21838   2455  3630.0  5280.9   \n",
       "353639    21839   2446  3683.1  5216.3    21839   2455  3630.0  5280.9   \n",
       "353662    21840   2446  3672.3  5213.2    21840   2455  3630.0  5280.9   \n",
       "353783    21844   2446  3627.8  5204.9    21844   2455  3630.0  5280.9   \n",
       "353819    21845   2446  3616.6  5203.4    21845   2455  3630.0  5280.9   \n",
       "\n",
       "           tr_vx   tr_vy          RSSI  Label  \n",
       "353306 -4.402300  28.221  9.917300e-09    1.0  \n",
       "353372 -3.275900  28.385  1.942600e-08    1.0  \n",
       "353389 -3.272900  28.359  1.756600e-08    1.0  \n",
       "353412 -3.271600  28.348  6.052300e-09    1.0  \n",
       "353454 -3.282700  28.444  7.246100e-09    1.0  \n",
       "353479 -3.281900  28.437  5.523700e-09    1.0  \n",
       "353501 -2.333300  28.484  4.029700e-09    1.0  \n",
       "353568 -2.331200  28.458  3.206400e-09    1.0  \n",
       "353614 -1.192300  28.557  2.644700e-09    1.0  \n",
       "353639 -1.189400  28.488  2.872700e-09    1.0  \n",
       "353662 -1.189100  28.480  2.892100e-09    1.0  \n",
       "353783 -0.027684  28.533  2.037600e-09    1.0  \n",
       "353819 -0.027703  28.553  1.530500e-09    1.0  "
      ]
     },
     "metadata": {},
     "output_type": "display_data"
    },
    {
     "name": "stdout",
     "output_type": "stream",
     "text": [
      "*************We firstly check whether it is malicious by its corresponding model*************\n",
      "The detection system said: The BSM is malicious!\n",
      "The detection is correct!\n",
      "*************We then check whether it is malicious by its general model*************\n",
      "The detection system said: The BSM is malicious!\n",
      "The detection is correct!\n",
      "*************If it is malicious, we classify it*************\n",
      "The classification is correct!\n"
     ]
    }
   ],
   "source": [
    "input_type = 4 # Which type of attack our malicious is chosen from, choose 0~4 please1\n",
    "mode = 1 # Whether the data that we choose is attack or normal, choose 0 or 1 please!\n",
    "validation(input_type, mode)"
   ]
  }
 ],
 "metadata": {
  "kernelspec": {
   "display_name": "Python 3",
   "language": "python",
   "name": "python3"
  },
  "language_info": {
   "codemirror_mode": {
    "name": "ipython",
    "version": 3
   },
   "file_extension": ".py",
   "mimetype": "text/x-python",
   "name": "python",
   "nbconvert_exporter": "python",
   "pygments_lexer": "ipython3",
   "version": "3.7.3"
  }
 },
 "nbformat": 4,
 "nbformat_minor": 2
}
