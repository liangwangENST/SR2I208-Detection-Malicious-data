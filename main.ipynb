{
 "cells": [
  {
   "cell_type": "markdown",
   "metadata": {},
   "source": [
    "# Detection of Malicicous Data"
   ]
  },
  {
   "cell_type": "markdown",
   "metadata": {},
   "source": [
    "## Part I: Preprocessing "
   ]
  },
  {
   "cell_type": "markdown",
   "metadata": {},
   "source": [
    "### Read the data.file\n",
    "The data file includes dataset structured like Basic Safety Messages (BSM) defined in the SEA J2735 standard, including vehicle's location, speed, acceleration, heading, and brake status. We utilize the data to check the correcteness of the data and better classify the five types of position spoofing attack. "
   ]
  },
  {
   "cell_type": "code",
   "execution_count": 1,
   "metadata": {},
   "outputs": [],
   "source": [
    "import pandas as pd \n",
    "import matplotlib.pyplot as plt \n",
    "from mpl_toolkits.mplot3d import Axes3D\n",
    "import numpy as np"
   ]
  },
  {
   "cell_type": "code",
   "execution_count": 18,
   "metadata": {},
   "outputs": [],
   "source": [
    "cols = [2,3,4,9,10,16] #id, xr ,yr, xt,yt, label\n",
    "data = pd.read_csv(\"dataset/attack1withlabels.csv\",usecols=cols)\n",
    "data = data.dropna(axis=0, how=\"any\")#remove invalid data\n",
    "data_id = data.iloc[:,0]\n",
    "# attack 1: distance is too far recevier and transmitter\n",
    "pos_xr = data.iloc[:,1]\n",
    "pos_yr = data.iloc[:,2]\n",
    "pos_xt = data.iloc[:,3]\n",
    "pos_yt = data.iloc[:,4]\n",
    "\n",
    "label = data.iloc[:,5]\n"
   ]
  },
  {
   "cell_type": "markdown",
   "metadata": {},
   "source": [
    "### colunm data\n",
    "1. Type (3=BSM)\n",
    "2. Time BSM was received by the receiver\n",
    "3. Receiver ID\n",
    "4. Receiver X position\n",
    "5. Receiver Y position\n",
    "6. Receiver Z position\n",
    "7. Time BSM was transmitted\n",
    "8. Transmitter ID\n",
    "9. BSM ID\n",
    "10. Transmitter X position\n",
    "11. Transmitter Y position\n",
    "12. Transmitter Z position\n",
    "13. Transmitter X velocity\n",
    "14. Transmitter Y velocity\n",
    "15. Transmitter Z velocity\n",
    "16. RSSI (Received Signal Strength Indicator)\n",
    "17. Label (0=Normal Behavior)"
   ]
  },
  {
   "cell_type": "markdown",
   "metadata": {},
   "source": [
    "## impletation keras"
   ]
  },
  {
   "cell_type": "code",
   "execution_count": 93,
   "metadata": {},
   "outputs": [
    {
     "name": "stderr",
     "output_type": "stream",
     "text": [
      "Using TensorFlow backend.\n"
     ]
    }
   ],
   "source": [
    "from tensorflow.python.keras import backend as k\n",
    "from keras.models import Sequential\n",
    "from keras.layers import Dense,Activation\n",
    "from keras.layers.recurrent import LSTM\n",
    "import tensorflow\n",
    "from sklearn import model_selection\n"
   ]
  },
  {
   "cell_type": "code",
   "execution_count": 123,
   "metadata": {},
   "outputs": [],
   "source": [
    "# model implementation\n",
    "model = Sequential()\n",
    "# model.add(LSTM(32, input_shape=(None,5),return_sequences=False))\n",
    "model.add(Dense(8, input_dim=5))\n",
    "model.add(Dense(1, activation=\"relu\"))\n",
    "model.compile(optimizer='adam', loss='binary_crossentropy', metrics=['binary_accuracy'])"
   ]
  },
  {
   "cell_type": "code",
   "execution_count": 20,
   "metadata": {},
   "outputs": [],
   "source": [
    "# We read the data from the data.\n",
    "cols = [2,3,4,9,10,15,16] #id, xr ,yr, xt, yt, RSSI, label.\n",
    "data = pd.read_csv(\"dataset/attack1withlabels.csv\", usecols=cols, header=None)\n",
    "X = data.iloc[:,:6]\n",
    "y = data.iloc[:,6]"
   ]
  },
  {
   "cell_type": "markdown",
   "metadata": {},
   "source": [
    "Two observations for attack 1\n",
    "* The fake distance exceed the upper bound of communication range which is 800m\n",
    "* The distance does not change but the RSSI changes.\n",
    "The first criteria is trivial, thus we apply a filter. "
   ]
  },
  {
   "cell_type": "code",
   "execution_count": 40,
   "metadata": {},
   "outputs": [],
   "source": [
    "def distance(X):\n",
    "    distance = np.zeros(len(X))\n",
    "    for i in range(len(X)):\n",
    "        distance[i] = np.linalg.norm([X.iloc[i][3]-X.iloc[i][9], X.iloc[i][4]-X.iloc[i][10]])\n",
    "    distance_series = pd.Series(distance)\n",
    "    return distance_series\n",
    "\n",
    "distance_series = distance(X)\n",
    "X['distance'] = distance_series"
   ]
  },
  {
   "cell_type": "markdown",
   "metadata": {},
   "source": [
    "We filter the BSM whose distance is above the thredhold = 800"
   ]
  },
  {
   "cell_type": "code",
   "execution_count": 63,
   "metadata": {},
   "outputs": [],
   "source": [
    "def filtering_dis(X,y,thredhold):\n",
    "    drop_index = np.zeros(len(y))\n",
    "    for i in range(len(y)):\n",
    "        if X['distance'][i] > thredhold:\n",
    "            drop_index[i]=1\n",
    "    return drop_index\n",
    "\n",
    "drop_index = filtering_dis(X,y,800)\n",
    "drop_index_ = np.where(drop_index>0)\n",
    "np.asarray(drop_index_)[0]\n",
    "X_filter = X.drop(np.asarray(drop_index_)[0])\n",
    "y_filter = y.drop(np.asarray(drop_index_)[0])"
   ]
  },
  {
   "cell_type": "markdown",
   "metadata": {},
   "source": [
    "After pre-processing, we get the following relevant information:\n",
    "1. The ID of the transmitter BSM (Coloum 2)\n",
    "2. Transmitter positions (Coloum 9,10)\n",
    "3. The distance between transmitter and receiver (Coloum 'distance')\n",
    "4. The RSSI (Coloum 16)\n",
    "We feed the following information into the training model."
   ]
  },
  {
   "cell_type": "code",
   "execution_count": 116,
   "metadata": {},
   "outputs": [
    {
     "data": {
      "text/plain": [
       "0.8671063023456245"
      ]
     },
     "execution_count": 116,
     "metadata": {},
     "output_type": "execute_result"
    }
   ],
   "source": [
    "1-sum(y_filter)/y_filter.shape[0]"
   ]
  },
  {
   "cell_type": "code",
   "execution_count": 90,
   "metadata": {
    "scrolled": true
   },
   "outputs": [
    {
     "data": {
      "text/plain": [
       "(266402, 5)"
      ]
     },
     "execution_count": 90,
     "metadata": {},
     "output_type": "execute_result"
    }
   ],
   "source": [
    "X_feed = X_filter.drop([9,10], axis = 1)\n",
    "\n",
    "data_count = y_filter.count()\n",
    "data_rate = 0.8 * data_count\n",
    "data_rate = int(data_rate)\n",
    "\n",
    "X_train = X_feed.iloc[:data_rate,:]\n",
    "y_train = y_filter.iloc[:data_rate]\n",
    "X_test = X_feed.iloc[data_rate:,:]\n",
    "y_test = y_filter.iloc[data_rate:]\n",
    "\n",
    "X_train.shape"
   ]
  },
  {
   "cell_type": "code",
   "execution_count": 124,
   "metadata": {},
   "outputs": [
    {
     "name": "stdout",
     "output_type": "stream",
     "text": [
      "Epoch 1/10\n",
      "266402/266402 [==============================] - 4s 14us/step - loss: 2.2192 - binary_accuracy: 0.8623\n",
      "Epoch 2/10\n",
      "266402/266402 [==============================] - 3s 13us/step - loss: 2.2192 - binary_accuracy: 0.8623\n",
      "Epoch 3/10\n",
      "266402/266402 [==============================] - 3s 13us/step - loss: 2.2192 - binary_accuracy: 0.8623\n",
      "Epoch 4/10\n",
      "266402/266402 [==============================] - 4s 13us/step - loss: 2.2192 - binary_accuracy: 0.8623\n",
      "Epoch 5/10\n",
      "266402/266402 [==============================] - 4s 13us/step - loss: 2.2192 - binary_accuracy: 0.8623\n",
      "Epoch 6/10\n",
      "266402/266402 [==============================] - 3s 13us/step - loss: 2.2192 - binary_accuracy: 0.8623\n",
      "Epoch 7/10\n",
      "266402/266402 [==============================] - 3s 13us/step - loss: 2.2192 - binary_accuracy: 0.8623\n",
      "Epoch 8/10\n",
      "266402/266402 [==============================] - 3s 13us/step - loss: 2.2192 - binary_accuracy: 0.8623\n",
      "Epoch 9/10\n",
      "266402/266402 [==============================] - 4s 14us/step - loss: 2.2192 - binary_accuracy: 0.8623\n",
      "Epoch 10/10\n",
      "266402/266402 [==============================] - 4s 13us/step - loss: 2.2192 - binary_accuracy: 0.8623\n"
     ]
    },
    {
     "data": {
      "text/plain": [
       "<keras.callbacks.History at 0x145cea240>"
      ]
     },
     "execution_count": 124,
     "metadata": {},
     "output_type": "execute_result"
    }
   ],
   "source": [
    "#fit data\n",
    "model.fit(X_train.values,y_train.values,epochs=10,batch_size=100)"
   ]
  },
  {
   "cell_type": "code",
   "execution_count": 125,
   "metadata": {},
   "outputs": [
    {
     "name": "stdout",
     "output_type": "stream",
     "text": [
      "66601/66601 [==============================] - 1s 8us/step\n",
      "loss \n",
      " 1.8329824162138717\n",
      "accurency \n",
      " 0.8862779837549901\n"
     ]
    }
   ],
   "source": [
    "cost = model.evaluate(X_test.values,y_test.values,batch_size=100)\n",
    "print('loss \\n',cost[0])\n",
    "print('accurency \\n',cost[1])"
   ]
  },
  {
   "cell_type": "code",
   "execution_count": null,
   "metadata": {},
   "outputs": [],
   "source": []
  }
 ],
 "metadata": {
  "kernelspec": {
   "display_name": "Python 3",
   "language": "python",
   "name": "python3"
  },
  "language_info": {
   "codemirror_mode": {
    "name": "ipython",
    "version": 3
   },
   "file_extension": ".py",
   "mimetype": "text/x-python",
   "name": "python",
   "nbconvert_exporter": "python",
   "pygments_lexer": "ipython3",
   "version": "3.7.3"
  }
 },
 "nbformat": 4,
 "nbformat_minor": 2
}
