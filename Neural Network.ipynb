{
 "cells": [
  {
   "cell_type": "markdown",
   "metadata": {},
   "source": [
    "# Neural Net\n",
    "In this file, we test the neural net for all kind of attack."
   ]
  },
  {
   "cell_type": "code",
   "execution_count": 71,
   "metadata": {},
   "outputs": [],
   "source": [
    "import pandas as pd \n",
    "import matplotlib.pyplot as plt \n",
    "import numpy as np\n",
    "\n",
    "from keras.models import Sequential\n",
    "\n",
    "from keras.layers import Dense,Activation\n",
    "from keras.layers.recurrent import LSTM\n",
    "\n",
    "from sklearn.model_selection import train_test_split\n",
    "from sklearn import model_selection"
   ]
  },
  {
   "cell_type": "markdown",
   "metadata": {},
   "source": [
    "Construct the model and evaluate it"
   ]
  },
  {
   "cell_type": "code",
   "execution_count": 74,
   "metadata": {},
   "outputs": [
    {
     "data": {
      "text/plain": [
       "0.3143389564535112"
      ]
     },
     "execution_count": 74,
     "metadata": {},
     "output_type": "execute_result"
    }
   ],
   "source": [
    "data_attack1 = pd.read_csv(\"dataset/attack1with7FeatureVector.csv\")\n",
    "data_attack1 = data_attack1.dropna(axis=0, how=\"any\")#remove invalid data\n",
    "sum(np.array(data_attack1['Label']))/data_attack1['Label'].shape[0]/1"
   ]
  },
  {
   "cell_type": "code",
   "execution_count": 70,
   "metadata": {
    "scrolled": true
   },
   "outputs": [
    {
     "name": "stdout",
     "output_type": "stream",
     "text": [
      "Epoch 1/10\n",
      "24470/24470 [==============================] - 2s 86us/step - loss: 0.2610 - binary_accuracy: 0.9250\n",
      "Epoch 2/10\n",
      "24470/24470 [==============================] - 0s 15us/step - loss: 0.1325 - binary_accuracy: 0.9609\n",
      "Epoch 3/10\n",
      "24470/24470 [==============================] - 0s 15us/step - loss: 0.0978 - binary_accuracy: 0.9711\n",
      "Epoch 4/10\n",
      "24470/24470 [==============================] - 0s 15us/step - loss: 0.0836 - binary_accuracy: 0.9830\n",
      "Epoch 5/10\n",
      "24470/24470 [==============================] - 0s 15us/step - loss: 0.0758 - binary_accuracy: 0.9840\n",
      "Epoch 6/10\n",
      "24470/24470 [==============================] - 0s 15us/step - loss: 0.0695 - binary_accuracy: 0.9850\n",
      "Epoch 7/10\n",
      "24470/24470 [==============================] - 0s 15us/step - loss: 0.0665 - binary_accuracy: 0.9847\n",
      "Epoch 8/10\n",
      "24470/24470 [==============================] - 0s 15us/step - loss: 0.0631 - binary_accuracy: 0.9858\n",
      "Epoch 9/10\n",
      "24470/24470 [==============================] - 0s 15us/step - loss: 0.0616 - binary_accuracy: 0.9860\n",
      "Epoch 10/10\n",
      "24470/24470 [==============================] - 0s 14us/step - loss: 0.0593 - binary_accuracy: 0.9865\n",
      "6118/6118 [==============================] - 1s 116us/step\n",
      "For attack1: The loss is 0.06564514188204922 , the accuracy is 0.9839816933833294\n"
     ]
    }
   ],
   "source": [
    "data_attack1.shape\n",
    "\n",
    "X = data_attack1.iloc[:,12:] #In our case, we use the feature of 1-6, the feature of distance rejected\n",
    "n = X.shape[1]\n",
    "y = data_attack1.iloc[:,11]\n",
    "X = np.reshape(X.values, (X.shape[0], X.shape[1]))\n",
    "y =np.reshape(y.values, (y.shape[0],  1))\n",
    "\n",
    "\n",
    "model = Sequential()\n",
    "model.add(Dense(64, input_dim=n, activation=\"sigmoid\"))\n",
    "model.add(Dense(16, activation=\"sigmoid\"))\n",
    "model.add(Dense(1, activation=\"sigmoid\"))\n",
    "\n",
    "X_train, X_test, y_train, y_test = train_test_split(X, y, test_size=0.2, )\n",
    "\n",
    "model.compile(loss='binary_crossentropy', optimizer='Adagrad', metrics=['binary_accuracy'])\n",
    "\n",
    "model.fit(X_train, y_train, epochs=10, batch_size=100)\n",
    "\n",
    "loss_and_metrics = model.evaluate(X_test, y_test, batch_size=128)\n",
    "\n",
    "print('For attack1: The loss is', loss_and_metrics[0], ', the accuracy is', loss_and_metrics[1])"
   ]
  },
  {
   "cell_type": "code",
   "execution_count": 75,
   "metadata": {},
   "outputs": [
    {
     "data": {
      "text/plain": [
       "0.3143389564535112"
      ]
     },
     "execution_count": 75,
     "metadata": {},
     "output_type": "execute_result"
    }
   ],
   "source": [
    "data_attack2 = pd.read_csv(\"dataset/attack2with7FeatureVector.csv\")\n",
    "data_attack2 = data_attack2.dropna(axis=0, how=\"any\")#remove invalid data\n",
    "sum(np.array(data_attack2['Label']))/data_attack2['Label'].shape[0]/2"
   ]
  },
  {
   "cell_type": "code",
   "execution_count": 68,
   "metadata": {
    "scrolled": true
   },
   "outputs": [
    {
     "name": "stdout",
     "output_type": "stream",
     "text": [
      "Epoch 1/10\n",
      "24470/24470 [==============================] - 2s 83us/step - loss: 0.6361 - binary_accuracy: 0.6723\n",
      "Epoch 2/10\n",
      "24470/24470 [==============================] - 0s 15us/step - loss: 0.6206 - binary_accuracy: 0.6878\n",
      "Epoch 3/10\n",
      "24470/24470 [==============================] - 0s 14us/step - loss: 0.6199 - binary_accuracy: 0.6878\n",
      "Epoch 4/10\n",
      "24470/24470 [==============================] - 0s 15us/step - loss: 0.6193 - binary_accuracy: 0.6878\n",
      "Epoch 5/10\n",
      "24470/24470 [==============================] - 0s 15us/step - loss: 0.6189 - binary_accuracy: 0.6878\n",
      "Epoch 6/10\n",
      "24470/24470 [==============================] - 0s 15us/step - loss: 0.6187 - binary_accuracy: 0.6878\n",
      "Epoch 7/10\n",
      "24470/24470 [==============================] - 0s 15us/step - loss: 0.6184 - binary_accuracy: 0.6878\n",
      "Epoch 8/10\n",
      "24470/24470 [==============================] - 0s 14us/step - loss: 0.6181 - binary_accuracy: 0.6878\n",
      "Epoch 9/10\n",
      "24470/24470 [==============================] - 0s 14us/step - loss: 0.6179 - binary_accuracy: 0.6878\n",
      "Epoch 10/10\n",
      "24470/24470 [==============================] - 0s 15us/step - loss: 0.6176 - binary_accuracy: 0.6878\n",
      "6118/6118 [==============================] - 1s 110us/step\n",
      "The loss is 0.6252365353529108 , the accuracy is 0.6770186333455226\n"
     ]
    }
   ],
   "source": [
    "\n",
    "X = data_attack2.iloc[:,12:] \n",
    "n = X.shape[1]\n",
    "y = data_attack2.iloc[:,11]\n",
    "X = np.reshape(X.values, (X.shape[0], X.shape[1]))\n",
    "y = np.reshape(y.values, (y.shape[0],  1))\n",
    "y = y/2\n",
    "\n",
    "model2 = Sequential()\n",
    "model2.add(Dense(64, input_dim=n, activation=\"sigmoid\"))\n",
    "model2.add(Dense(16, activation=\"sigmoid\"))\n",
    "model2.add(Dense(1, activation=\"sigmoid\"))\n",
    "\n",
    "X_train, X_test, y_train, y_test = train_test_split(X, y, test_size=0.2, )\n",
    "\n",
    "model2.compile(loss='binary_crossentropy', optimizer='Adagrad', metrics=['binary_accuracy'])\n",
    "\n",
    "model2.fit(X_train, y_train, epochs=10, batch_size=100)\n",
    "\n",
    "loss_and_metrics2 = model2.evaluate(X_test, y_test, batch_size=128)\n",
    "\n",
    "print('The loss is', loss_and_metrics2[0], ', the accuracy is', loss_and_metrics2[1])"
   ]
  },
  {
   "cell_type": "code",
   "execution_count": 76,
   "metadata": {},
   "outputs": [
    {
     "data": {
      "text/plain": [
       "0.3448534690947066"
      ]
     },
     "execution_count": 76,
     "metadata": {},
     "output_type": "execute_result"
    }
   ],
   "source": [
    "data_attack4 = pd.read_csv(\"dataset/attack4with7FeatureVector.csv\")\n",
    "data_attack4 = data_attack4.dropna(axis=0, how=\"any\")#remove invalid data\n",
    "sum(np.array(data_attack4['Label']))/data_attack4['Label'].shape[0]/4"
   ]
  },
  {
   "cell_type": "code",
   "execution_count": 67,
   "metadata": {},
   "outputs": [
    {
     "name": "stdout",
     "output_type": "stream",
     "text": [
      "Epoch 1/10\n",
      "24513/24513 [==============================] - 2s 81us/step - loss: 0.3015 - binary_accuracy: 0.9014\n",
      "Epoch 2/10\n",
      "24513/24513 [==============================] - 0s 15us/step - loss: 0.1410 - binary_accuracy: 0.9612\n",
      "Epoch 3/10\n",
      "24513/24513 [==============================] - 0s 15us/step - loss: 0.0865 - binary_accuracy: 0.9777\n",
      "Epoch 4/10\n",
      "24513/24513 [==============================] - 0s 15us/step - loss: 0.0588 - binary_accuracy: 0.9945\n",
      "Epoch 5/10\n",
      "24513/24513 [==============================] - 0s 16us/step - loss: 0.0458 - binary_accuracy: 0.9976\n",
      "Epoch 6/10\n",
      "24513/24513 [==============================] - 0s 15us/step - loss: 0.0341 - binary_accuracy: 0.9990\n",
      "Epoch 7/10\n",
      "24513/24513 [==============================] - 0s 14us/step - loss: 0.0261 - binary_accuracy: 0.9998\n",
      "Epoch 8/10\n",
      "24513/24513 [==============================] - 0s 16us/step - loss: 0.0245 - binary_accuracy: 0.9987\n",
      "Epoch 9/10\n",
      "24513/24513 [==============================] - 0s 16us/step - loss: 0.0218 - binary_accuracy: 0.9988\n",
      "Epoch 10/10\n",
      "24513/24513 [==============================] - 0s 15us/step - loss: 0.0171 - binary_accuracy: 0.9998\n",
      "6129/6129 [==============================] - 1s 118us/step\n",
      "For attack4: The loss is 0.015617923070153146 , the accuracy is 0.9996736824930658\n"
     ]
    }
   ],
   "source": [
    "\n",
    "X = data_attack4.iloc[:,12:] #In our case, we use the feature of 1-6, the feature of distance rejected\n",
    "n = X.shape[1]\n",
    "y = data_attack4.iloc[:,11]\n",
    "X = np.reshape(X.values, (X.shape[0], X.shape[1]))\n",
    "y =np.reshape(y.values, (y.shape[0],  1))\n",
    "y = y/4\n",
    "\n",
    "model4 = Sequential()\n",
    "model4.add(Dense(64, input_dim=n, activation=\"sigmoid\"))\n",
    "model4.add(Dense(16, activation=\"sigmoid\"))\n",
    "model4.add(Dense(1, activation=\"sigmoid\"))\n",
    "\n",
    "X_train, X_test, y_train, y_test = train_test_split(X, y, test_size=0.2, )\n",
    "\n",
    "model4.compile(loss='binary_crossentropy', optimizer='Adagrad', metrics=['binary_accuracy'])\n",
    "\n",
    "model4.fit(X_train, y_train, epochs=10, batch_size=100)\n",
    "\n",
    "loss_and_metrics4 = model4.evaluate(X_test, y_test, batch_size=64)\n",
    "\n",
    "print('For attack4: The loss is', loss_and_metrics4[0], ', the accuracy is', loss_and_metrics4[1])"
   ]
  },
  {
   "cell_type": "code",
   "execution_count": 77,
   "metadata": {},
   "outputs": [
    {
     "data": {
      "text/plain": [
       "0.2550987057131651"
      ]
     },
     "execution_count": 77,
     "metadata": {},
     "output_type": "execute_result"
    }
   ],
   "source": [
    "data_attack8 = pd.read_csv(\"dataset/attack8with7FeatureVector.csv\")\n",
    "data_attack8 = data_attack8.dropna(axis=0, how=\"any\")#remove invalid data\n",
    "sum(np.array(data_attack8['Label']))/data_attack8['Label'].shape[0]/8"
   ]
  },
  {
   "cell_type": "code",
   "execution_count": 66,
   "metadata": {},
   "outputs": [
    {
     "name": "stdout",
     "output_type": "stream",
     "text": [
      "Epoch 1/10\n",
      "24476/24476 [==============================] - 2s 81us/step - loss: 0.2735 - binary_accuracy: 0.9194\n",
      "Epoch 2/10\n",
      "24476/24476 [==============================] - 0s 15us/step - loss: 0.1522 - binary_accuracy: 0.9627\n",
      "Epoch 3/10\n",
      "24476/24476 [==============================] - 0s 15us/step - loss: 0.1157 - binary_accuracy: 0.9690\n",
      "Epoch 4/10\n",
      "24476/24476 [==============================] - 0s 15us/step - loss: 0.1006 - binary_accuracy: 0.9705\n",
      "Epoch 5/10\n",
      "24476/24476 [==============================] - 0s 15us/step - loss: 0.0924 - binary_accuracy: 0.9706\n",
      "Epoch 6/10\n",
      "24476/24476 [==============================] - 0s 15us/step - loss: 0.0879 - binary_accuracy: 0.9713\n",
      "Epoch 7/10\n",
      "24476/24476 [==============================] - 0s 14us/step - loss: 0.0845 - binary_accuracy: 0.9717\n",
      "Epoch 8/10\n",
      "24476/24476 [==============================] - 0s 15us/step - loss: 0.0815 - binary_accuracy: 0.9719\n",
      "Epoch 9/10\n",
      "24476/24476 [==============================] - 0s 14us/step - loss: 0.0795 - binary_accuracy: 0.9718\n",
      "Epoch 10/10\n",
      "24476/24476 [==============================] - 0s 14us/step - loss: 0.0780 - binary_accuracy: 0.9718\n",
      "6120/6120 [==============================] - 1s 112us/step\n",
      "For attack8: The loss is 0.07969850977651434 , the accuracy is 0.9717320260658763\n"
     ]
    }
   ],
   "source": [
    "\n",
    "X = data_attack8.iloc[:,12:] #In our case, we use the feature of 1-6, the feature of distance rejected\n",
    "n = X.shape[1]\n",
    "y = data_attack8.iloc[:,11]\n",
    "X = np.reshape(X.values, (X.shape[0], X.shape[1]))\n",
    "y =np.reshape(y.values, (y.shape[0],  1))\n",
    "y = y/8\n",
    "\n",
    "model8 = Sequential()\n",
    "model8.add(Dense(64, input_dim=n, activation=\"sigmoid\"))\n",
    "model8.add(Dense(16, activation=\"sigmoid\"))\n",
    "model8.add(Dense(1, activation=\"sigmoid\"))\n",
    "\n",
    "X_train, X_test, y_train, y_test = train_test_split(X, y, test_size=0.2, )\n",
    "\n",
    "model8.compile(loss='binary_crossentropy', optimizer='Adagrad', metrics=['binary_accuracy'])\n",
    "\n",
    "model8.fit(X_train, y_train, epochs=10, batch_size=100)\n",
    "\n",
    "loss_and_metrics8 = model8.evaluate(X_test, y_test, batch_size=64)\n",
    "\n",
    "print('For attack8: The loss is', loss_and_metrics8[0], ', the accuracy is', loss_and_metrics8[1])"
   ]
  },
  {
   "cell_type": "code",
   "execution_count": 78,
   "metadata": {},
   "outputs": [
    {
     "data": {
      "text/plain": [
       "0.2963955426293258"
      ]
     },
     "execution_count": 78,
     "metadata": {},
     "output_type": "execute_result"
    }
   ],
   "source": [
    "data_attack16 = pd.read_csv(\"dataset/attack16with7FeatureVector.csv\")\n",
    "data_attack16 = data_attack16.dropna(axis=0, how=\"any\")#remove invalid data\n",
    "sum(np.array(data_attack16['Label']))/data_attack16['Label'].shape[0]/16"
   ]
  },
  {
   "cell_type": "code",
   "execution_count": 65,
   "metadata": {},
   "outputs": [
    {
     "name": "stdout",
     "output_type": "stream",
     "text": [
      "Epoch 1/10\n",
      "24480/24480 [==============================] - 2s 77us/step - loss: 0.3608 - binary_accuracy: 0.8866\n",
      "Epoch 2/10\n",
      "24480/24480 [==============================] - 0s 15us/step - loss: 0.2062 - binary_accuracy: 0.9402\n",
      "Epoch 3/10\n",
      "24480/24480 [==============================] - 0s 14us/step - loss: 0.1656 - binary_accuracy: 0.9506\n",
      "Epoch 4/10\n",
      "24480/24480 [==============================] - 0s 14us/step - loss: 0.1489 - binary_accuracy: 0.9556\n",
      "Epoch 5/10\n",
      "24480/24480 [==============================] - 0s 14us/step - loss: 0.1404 - binary_accuracy: 0.9598\n",
      "Epoch 6/10\n",
      "24480/24480 [==============================] - 0s 15us/step - loss: 0.1357 - binary_accuracy: 0.9598\n",
      "Epoch 7/10\n",
      "24480/24480 [==============================] - 0s 14us/step - loss: 0.1310 - binary_accuracy: 0.9612\n",
      "Epoch 8/10\n",
      "24480/24480 [==============================] - 0s 15us/step - loss: 0.1287 - binary_accuracy: 0.9623\n",
      "Epoch 9/10\n",
      "24480/24480 [==============================] - 0s 14us/step - loss: 0.1264 - binary_accuracy: 0.9629\n",
      "Epoch 10/10\n",
      "24480/24480 [==============================] - 0s 15us/step - loss: 0.1240 - binary_accuracy: 0.9636\n",
      "6121/6121 [==============================] - 1s 109us/step\n",
      "For attack16: The loss is 0.11454975341848836 , the accuracy is 0.9683058324484941\n"
     ]
    }
   ],
   "source": [
    "\n",
    "X = data_attack16.iloc[:,12:] #In our case, we use the feature of 1-6, the feature of distance rejected\n",
    "n = X.shape[1]\n",
    "y = data_attack16.iloc[:,11]\n",
    "X = np.reshape(X.values, (X.shape[0], X.shape[1]))\n",
    "y =np.reshape(y.values, (y.shape[0],  1))\n",
    "y = y/16\n",
    "\n",
    "model16 = Sequential()\n",
    "model16.add(Dense(64, input_dim=n, activation=\"sigmoid\"))\n",
    "model16.add(Dense(16, activation=\"sigmoid\"))\n",
    "model16.add(Dense(1, activation=\"sigmoid\"))\n",
    "\n",
    "X_train, X_test, y_train, y_test = train_test_split(X, y, test_size=0.2, )\n",
    "\n",
    "model16.compile(loss='binary_crossentropy', optimizer='Adagrad', metrics=['binary_accuracy'])\n",
    "\n",
    "model16.fit(X_train, y_train, epochs=10, batch_size=100)\n",
    "\n",
    "loss_and_metrics16 = model16.evaluate(X_test, y_test, batch_size=64)\n",
    "\n",
    "print('For attack16: The loss is', loss_and_metrics16[0], ', the accuracy is', loss_and_metrics16[1])"
   ]
  },
  {
   "cell_type": "code",
   "execution_count": null,
   "metadata": {},
   "outputs": [],
   "source": []
  }
 ],
 "metadata": {
  "kernelspec": {
   "display_name": "Python 3",
   "language": "python",
   "name": "python3"
  },
  "language_info": {
   "codemirror_mode": {
    "name": "ipython",
    "version": 3
   },
   "file_extension": ".py",
   "mimetype": "text/x-python",
   "name": "python",
   "nbconvert_exporter": "python",
   "pygments_lexer": "ipython3",
   "version": "3.7.3"
  }
 },
 "nbformat": 4,
 "nbformat_minor": 2
}
