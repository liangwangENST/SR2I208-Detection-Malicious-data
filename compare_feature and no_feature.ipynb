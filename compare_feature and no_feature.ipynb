{
 "cells": [
  {
   "cell_type": "code",
   "execution_count": 132,
   "metadata": {},
   "outputs": [],
   "source": [
    "\n",
    "import pandas as pd \n",
    "import matplotlib.pyplot as plt \n",
    "import numpy as np\n",
    "from sklearn.model_selection import train_test_split\n",
    "import matplotlib.pyplot as plt \n",
    "from keras.models import Sequential\n",
    "from keras.layers import Dense,Activation\n",
    "from keras.layers.recurrent import LSTM\n",
    "from sklearn import model_selection"
   ]
  },
  {
   "cell_type": "code",
   "execution_count": 133,
   "metadata": {},
   "outputs": [],
   "source": [
    "def evaluate_model(y_predict, y_test):\n",
    "    count_ccr = 0\n",
    "    TP = 0\n",
    "    FP = 0\n",
    "    FN = 0\n",
    "    for i in range(len(y_test)):\n",
    "        if y_predict[i]==y_test[i]:\n",
    "            count_ccr+=1\n",
    "        if y_predict[i]==1 and y_test[i]==1:\n",
    "            TP+=1\n",
    "        if y_predict[i]==1 and y_test[i]==0:\n",
    "            FP+=1\n",
    "        if y_predict[i]==0 and y_test[i]==1:\n",
    "            FN+=1\n",
    "    ccr = count_ccr/len(y_test)\n",
    "    if (TP+FP)==0:\n",
    "        print('All the prediction is normal')\n",
    "        preci = 0\n",
    "    else:\n",
    "        preci = TP/(TP+FP)\n",
    "    recall= TP/(TP+FN)\n",
    "    #print('For this model, the CCR is', ccr, ', the Precision is', preci, 'and the Recall is', recall )\n",
    "    return ccr,preci,recall"
   ]
  },
  {
   "cell_type": "code",
   "execution_count": 134,
   "metadata": {},
   "outputs": [],
   "source": [
    "data = pd.read_csv(\"dataset/attack1with7FeatureVector.csv\")\n",
    "data = data.dropna(axis=0, how=\"any\")#remove invalid data"
   ]
  },
  {
   "cell_type": "code",
   "execution_count": 135,
   "metadata": {},
   "outputs": [],
   "source": [
    "X = data.iloc[:,[2,3,6,7,8,9,12,13,14,15,16,17,18]]\n",
    "y = data.iloc[:,11]"
   ]
  },
  {
   "cell_type": "code",
   "execution_count": 136,
   "metadata": {},
   "outputs": [],
   "source": [
    "from itertools import chain\n",
    "list_ccr_1    =[]\n",
    "list_recall_1 =[]\n",
    "list_preci_1  =[]\n",
    "\n",
    "list_ccr_2    =[]\n",
    "list_recall_2 =[]\n",
    "list_preci_2  =[]\n",
    "for i in range(10):\n",
    "    X = data.iloc[:,[2,3,6,7,8,9,12,13,14,15,16,17,18]]\n",
    "    y = data.iloc[:,11]\n",
    "    X_train, X_test, y_train, y_test = train_test_split(X, y, test_size=0.2, )\n",
    "    \n",
    "    \n",
    "    model_no_feature = Sequential()\n",
    "    model_no_feature.add(Dense(64, input_dim=6, activation='sigmoid'))\n",
    "    model_no_feature.add(Dense(16, activation='sigmoid'))\n",
    "    model_no_feature.add(Dense(1, activation='sigmoid'))\n",
    "    model_no_feature.compile(loss='mean_absolute_error', optimizer='RMSprop', metrics=['binary_accuracy'])    \n",
    "    model_no_feature.fit(X_train.iloc[:,:6], y_train, epochs=8,batch_size=100,verbose=0)\n",
    "    y_predict = np.round(model_no_feature.predict(X_test.iloc[:,:6]))\n",
    "    y_predict =np.reshape(y_predict, (y_predict.shape[0],  1))\n",
    "    ccr_no_feature,preci_no_feature,recall_no_feature = evaluate_model(y_predict, y_test.values)\n",
    "    \n",
    "    model_feature = Sequential()\n",
    "    model_feature.add(Dense(64, input_dim=7, activation='sigmoid'))\n",
    "    model_feature.add(Dense(16, activation='sigmoid'))\n",
    "    model_feature.add(Dense(1, activation='sigmoid'))\n",
    "    model_feature.compile(loss='mean_absolute_error', optimizer='RMSprop', metrics=['binary_accuracy'])\n",
    "    model_feature.fit(X_train.iloc[:,6:], y_train, epochs=8,batch_size=100,verbose=0)\n",
    "    y_predict = np.round(model_feature.predict(X_test.iloc[:,6:]))\n",
    "    ccr_feature,preci_feature,recall_feature = evaluate_model(y_predict, y_test.values)\n",
    "    \n",
    "    list_ccr_1.append(ccr_no_feature)\n",
    "    list_recall_1.append(recall_no_feature)\n",
    "    list_preci_1.append(preci_no_feature)\n",
    "    \n",
    "    list_ccr_2.append(ccr_feature)\n",
    "    list_preci_2.append(preci_feature)\n",
    "    list_recall_2.append(recall_feature)\n"
   ]
  },
  {
   "cell_type": "code",
   "execution_count": null,
   "metadata": {},
   "outputs": [],
   "source": [
    "\n",
    "plt.scatter(range(10),list_ccr_1,label = 'ccr_no_feature')\n",
    "plt.scatter(range(10),list_ccr_2,label = 'ccr_feature',c='g')\n",
    "plt.legend(loc='best')\n",
    "plt.xlabel(\"iteration\")\n",
    "plt.ylabel(\"ccr\")\n",
    "plt.show()\n"
   ]
  },
  {
   "cell_type": "code",
   "execution_count": null,
   "metadata": {},
   "outputs": [],
   "source": [
    "\n",
    "plt.scatter(range(10),list_preci_1,label = 'precision_no_feature')\n",
    "plt.scatter(range(10),list_preci_2,label = 'precision_feature',c='g')\n",
    "plt.legend(loc='best')\n",
    "plt.xlabel(\"iteration\")\n",
    "plt.ylabel(\"precision\")\n",
    "plt.show()\n"
   ]
  },
  {
   "cell_type": "code",
   "execution_count": null,
   "metadata": {},
   "outputs": [],
   "source": [
    "plt.scatter(range(10),list_recall_1,label = 'recall_no_feature')\n",
    "plt.scatter(range(10),list_recall_2,label = 'recall_feature',c='g')\n",
    "plt.legend(loc='best')\n",
    "plt.xlabel(\"iteration\")\n",
    "plt.ylabel(\"recall\")\n",
    "plt.show()"
   ]
  },
  {
   "cell_type": "code",
   "execution_count": null,
   "metadata": {},
   "outputs": [],
   "source": [
    "print('ccr_no_feature : ',np.average(list_ccr_1))\n",
    "print('ccr_feature : '   ,np.average(list_ccr_2))\n",
    "print('precision_no_feature : ',np.average(list_preci_1))\n",
    "print('precision_no_feature : ',np.average(list_preci_2))\n",
    "print('recall_no_feature : ',np.average(list_recall_1))\n",
    "print('recall_no_feature : ',np.average(list_recall_2))"
   ]
  },
  {
   "cell_type": "code",
   "execution_count": null,
   "metadata": {},
   "outputs": [],
   "source": []
  }
 ],
 "metadata": {
  "kernelspec": {
   "display_name": "Python 3",
   "language": "python",
   "name": "python3"
  },
  "language_info": {
   "codemirror_mode": {
    "name": "ipython",
    "version": 3
   },
   "file_extension": ".py",
   "mimetype": "text/x-python",
   "name": "python",
   "nbconvert_exporter": "python",
   "pygments_lexer": "ipython3",
   "version": "3.7.3"
  }
 },
 "nbformat": 4,
 "nbformat_minor": 2
}
