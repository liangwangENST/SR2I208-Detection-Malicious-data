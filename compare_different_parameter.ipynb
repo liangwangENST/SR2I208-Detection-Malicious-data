{
 "cells": [
  {
   "cell_type": "code",
   "execution_count": 5,
   "metadata": {},
   "outputs": [],
   "source": [
    "import pandas as pd \n",
    "import matplotlib.pyplot as plt \n",
    "import numpy as np\n",
    "\n",
    "from keras.models import Sequential\n",
    "\n",
    "from keras.layers import Dense,Activation\n",
    "from keras.layers.recurrent import LSTM\n",
    "import matplotlib.pyplot as plt \n",
    "\n",
    "from sklearn.model_selection import train_test_split\n",
    "from sklearn import model_selection"
   ]
  },
  {
   "cell_type": "code",
   "execution_count": 6,
   "metadata": {},
   "outputs": [],
   "source": [
    "activation_func = ['sigmoid','softmax', 'elu', 'selu', 'softplus', 'softsign', \n",
    "                   'relu', 'tanh', 'hard_sigmoid', 'linear']\n",
    "loss_func = ['binary_crossentropy', 'mean_squared_error', 'mean_absolute_error', 'mean_absolute_percentage_error',\n",
    "            'mean_squared_logarithmic_error', 'squared_hinge', 'hinge', 'logcosh', 'kullback_leibler_divergence', \n",
    "            'poisson', 'cosine_proximity']\n",
    "optimizer_scheme = ['Adagrad','SGD', 'RMSprop', 'Adadelta', 'Adam', 'Adamax', 'Nadam']"
   ]
  },
  {
   "cell_type": "code",
   "execution_count": 7,
   "metadata": {},
   "outputs": [],
   "source": [
    "data_attack1 = pd.read_csv(\"dataset/attack1with7FeatureVector.csv\")\n",
    "data_attack1 = data_attack1.dropna(axis=0, how=\"any\")#remove invalid data\n",
    "sum(np.array(data_attack1['Label']))/data_attack1['Label'].shape[0]/1\n",
    "\n",
    "data_attack1.shape\n",
    "\n",
    "X = data_attack1.iloc[:,12:] #In our case, we use the feature of 1-6, the feature of distance rejected\n",
    "n = X.shape[1]\n",
    "y = data_attack1.iloc[:,11]\n",
    "X = np.reshape(X.values, (X.shape[0], X.shape[1]))\n",
    "y =np.reshape(y.values, (y.shape[0],  1))"
   ]
  },
  {
   "cell_type": "markdown",
   "metadata": {},
   "source": [
    "### Choosing the Activation Function"
   ]
  },
  {
   "cell_type": "code",
   "execution_count": 10,
   "metadata": {},
   "outputs": [
    {
     "name": "stdout",
     "output_type": "stream",
     "text": [
      "********For the activation function sigmoid ********\n",
      "6118/6118 [==============================] - 0s 19us/step\n",
      "For attack1: The loss is 0.06360859940472129 , the accuracy is 0.9856162144686514\n",
      "********For the activation function softmax ********\n",
      "6118/6118 [==============================] - 0s 22us/step\n",
      "For attack1: The loss is 11.053872787784853 , the accuracy is 0.30663615561127855\n",
      "********For the activation function elu ********\n",
      "6118/6118 [==============================] - 0s 21us/step\n",
      "For attack1: The loss is 0.36891368435815725 , the accuracy is 0.5075187970022237\n",
      "********For the activation function selu ********\n",
      "6118/6118 [==============================] - 0s 28us/step\n",
      "For attack1: The loss is 4.63794431860987 , the accuracy is 0.042007191939052314\n",
      "********For the activation function softplus ********\n",
      "6118/6118 [==============================] - 0s 25us/step\n",
      "For attack1: The loss is 11.019997190829 , the accuracy is 0.022229486771948432\n",
      "********For the activation function softsign ********\n",
      "6118/6118 [==============================] - 0s 27us/step\n",
      "For attack1: The loss is 0.19031149626080215 , the accuracy is 0.5210853219421988\n",
      "********For the activation function relu ********\n",
      "6118/6118 [==============================] - 0s 29us/step\n",
      "For attack1: The loss is 5.129443432077468 , the accuracy is 0.6817587445124413\n",
      "********For the activation function tanh ********\n",
      "6118/6118 [==============================] - 0s 30us/step\n",
      "For attack1: The loss is 5.021427420940069 , the accuracy is 0.41255312205218303\n",
      "********For the activation function hard_sigmoid ********\n",
      "6118/6118 [==============================] - 0s 33us/step\n",
      "For attack1: The loss is 0.09350023379938475 , the accuracy is 0.9816933633962384\n",
      "********For the activation function linear ********\n",
      "6118/6118 [==============================] - 0s 32us/step\n",
      "For attack1: The loss is 5.008254750486525 , the accuracy is 0.26185027789294074\n"
     ]
    }
   ],
   "source": [
    "activation_func_use = activation_func[0]\n",
    "loss_func_use = loss_func[0]\n",
    "optimizer_scheme_use = optimizer_scheme[0]\n",
    "list_activation = []\n",
    "\n",
    "for i in range(len(activation_func)):\n",
    "    activation_func_use = activation_func[i]\n",
    "    print('********For the activation function', activation_func[i], '********')\n",
    "    model = Sequential()\n",
    "    model.add(Dense(64, input_dim=n, activation=activation_func_use))\n",
    "    model.add(Dense(16, activation=activation_func_use))\n",
    "    model.add(Dense(1, activation=activation_func_use))\n",
    "\n",
    "    X_train, X_test, y_train, y_test = train_test_split(X, y, test_size=0.2, )\n",
    "\n",
    "    model.compile(loss=loss_func_use, optimizer=optimizer_scheme_use, metrics=['binary_accuracy'])\n",
    "\n",
    "    model.fit(X_train, y_train, epochs=10, batch_size=100,verbose =0)\n",
    "\n",
    "    loss_and_metrics = model.evaluate(X_test, y_test, batch_size=128)\n",
    "\n",
    "    print('For attack1: The loss is', loss_and_metrics[0], ', the accuracy is', loss_and_metrics[1])\n",
    "    list_activation.append([activation_func_use,loss_and_metrics[1]])"
   ]
  },
  {
   "cell_type": "code",
   "execution_count": 13,
   "metadata": {},
   "outputs": [
    {
     "data": {
      "image/png": "[encoded data removed]",
      "text/plain": [
       "<Figure size 432x288 with 1 Axes>"
      ]
     },
     "metadata": {
      "needs_background": "light"
     },
     "output_type": "display_data"
    }
   ],
   "source": [
    "for i in range(len(list_activation)):\n",
    "    plt.scatter(i,list_activation[i][1],label = list_activation[i][0])\n",
    "    plt.legend(loc='best')    \n",
    "plt.xlabel(\"active function\")\n",
    "plt.ylabel(\"accurency\")\n",
    "plt.show()\n"
   ]
  },
  {
   "cell_type": "markdown",
   "metadata": {},
   "source": [
    "### Choosing the Loss function\n"
   ]
  },
  {
   "cell_type": "code",
   "execution_count": 17,
   "metadata": {},
   "outputs": [
    {
     "name": "stdout",
     "output_type": "stream",
     "text": [
      "********For the loss function binary_crossentropy ********\n",
      "6118/6118 [==============================] - 1s 84us/step\n",
      "For attack1: The loss is 0.06044991076937607 , the accuracy is 0.9859431181791055\n",
      "********For the loss function mean_squared_error ********\n",
      "6118/6118 [==============================] - 0s 69us/step\n",
      "For attack1: The loss is 0.013367368551972802 , the accuracy is 0.9874141876625057\n",
      "********For the loss function mean_absolute_error ********\n",
      "6118/6118 [==============================] - 0s 70us/step\n",
      "For attack1: The loss is 0.022777837379943627 , the accuracy is 0.9864334745241872\n",
      "********For the loss function mean_absolute_percentage_error ********\n",
      "6118/6118 [==============================] - 0s 72us/step\n",
      "For attack1: The loss is 910188.5389016018 , the accuracy is 0.6847008830700563\n",
      "********For the loss function mean_squared_logarithmic_error ********\n",
      "6118/6118 [==============================] - 0s 70us/step\n",
      "For attack1: The loss is 0.006046326739951632 , the accuracy is 0.9882314476985563\n",
      "********For the loss function squared_hinge ********\n",
      "6118/6118 [==============================] - 0s 74us/step\n",
      "For attack1: The loss is 0.681990851448735 , the accuracy is 0.3180778033497989\n",
      "********For the loss function hinge ********\n",
      "6118/6118 [==============================] - 0s 76us/step\n",
      "For attack1: The loss is 0.6844596516544346 , the accuracy is 0.3164432823034469\n",
      "********For the loss function logcosh ********\n",
      "6118/6118 [==============================] - 0s 73us/step\n",
      "For attack1: The loss is 0.006642001494095485 , the accuracy is 0.9859431186857158\n",
      "********For the loss function kullback_leibler_divergence ********\n",
      "6118/6118 [==============================] - 0s 81us/step\n",
      "For attack1: The loss is 0.0017198833981580636 , the accuracy is 0.316116378135095\n",
      "********For the loss function poisson ********\n",
      "6118/6118 [==============================] - 1s 82us/step\n",
      "For attack1: The loss is 0.3534331149858523 , the accuracy is 0.9843085976003938\n",
      "********For the loss function cosine_proximity ********\n",
      "6118/6118 [==============================] - 0s 81us/step\n",
      "For attack1: The loss is -0.319058490758162 , the accuracy is 0.3190585160691896\n"
     ]
    }
   ],
   "source": [
    "activation_func_use = activation_func[0]\n",
    "loss_func_use = loss_func[0]\n",
    "optimizer_scheme_use = optimizer_scheme[0]\n",
    "list_loss =[]\n",
    "for i in range(len(loss_func)):\n",
    "    loss_func_use = loss_func[i]\n",
    "    print('********For the loss function', loss_func[i], '********')\n",
    "    model = Sequential()\n",
    "    model.add(Dense(64, input_dim=n, activation=activation_func_use))\n",
    "    model.add(Dense(16, activation=activation_func_use))\n",
    "    model.add(Dense(1, activation=activation_func_use))\n",
    "\n",
    "    X_train, X_test, y_train, y_test = train_test_split(X, y, test_size=0.2, )\n",
    "\n",
    "    model.compile(loss=loss_func_use, optimizer=optimizer_scheme_use, metrics=['binary_accuracy'])\n",
    "\n",
    "    model.fit(X_train, y_train, epochs=10, batch_size=100,verbose=0)\n",
    "\n",
    "    loss_and_metrics = model.evaluate(X_test, y_test, batch_size=128)\n",
    "\n",
    "    print('For attack1: The loss is', loss_and_metrics[0], ', the accuracy is', loss_and_metrics[1])\n",
    "    list_loss.append([loss_func_use,loss_and_metrics[1]])"
   ]
  },
  {
   "cell_type": "code",
   "execution_count": 18,
   "metadata": {},
   "outputs": [
    {
     "data": {
      "image/png": "[encoded data removed]",
      "text/plain": [
       "<Figure size 432x288 with 1 Axes>"
      ]
     },
     "metadata": {
      "needs_background": "light"
     },
     "output_type": "display_data"
    }
   ],
   "source": [
    "for i in range(len(list_loss)):\n",
    "    plt.scatter(i,list_loss[i][1],label = list_loss[i][0])\n",
    "    plt.legend(loc='best')    \n",
    "plt.xlabel(\"loss function\")\n",
    "plt.ylabel(\"accurency\")\n",
    "plt.show()\n"
   ]
  },
  {
   "cell_type": "markdown",
   "metadata": {},
   "source": [
    "### Choosing the proper Optimizer"
   ]
  },
  {
   "cell_type": "code",
   "execution_count": 21,
   "metadata": {},
   "outputs": [
    {
     "name": "stdout",
     "output_type": "stream",
     "text": [
      "***********For the optimizer_scheme Adagrad ***********\n",
      "6118/6118 [==============================] - 1s 89us/step\n",
      "For attack1: The loss is 0.05788782862602359 , the accuracy is 0.9867603792088918\n",
      "***********For the optimizer_scheme SGD ***********\n",
      "6118/6118 [==============================] - 1s 90us/step\n",
      "For attack1: The loss is 0.257161462655758 , the accuracy is 0.9303694013755825\n",
      "***********For the optimizer_scheme RMSprop ***********\n",
      "6118/6118 [==============================] - 1s 90us/step\n",
      "For attack1: The loss is 0.05341765109416744 , the accuracy is 0.9867603787217666\n",
      "***********For the optimizer_scheme Adadelta ***********\n",
      "6118/6118 [==============================] - 1s 96us/step\n",
      "For attack1: The loss is 0.058740686911428315 , the accuracy is 0.9870872834454412\n",
      "***********For the optimizer_scheme Adam ***********\n",
      "6118/6118 [==============================] - 1s 96us/step\n",
      "For attack1: The loss is 0.03810957531332385 , the accuracy is 0.9913370377606682\n",
      "***********For the optimizer_scheme Adamax ***********\n",
      "6118/6118 [==============================] - 1s 99us/step\n",
      "For attack1: The loss is 0.049894889219304475 , the accuracy is 0.988558352422231\n",
      "***********For the optimizer_scheme Nadam ***********\n",
      "6118/6118 [==============================] - 1s 106us/step\n",
      "For attack1: The loss is 0.04164329262516708 , the accuracy is 0.9882314482051666\n"
     ]
    }
   ],
   "source": [
    "activation_func_use = activation_func[0]\n",
    "loss_func_use = loss_func[0]\n",
    "optimizer_scheme_use = optimizer_scheme[0]\n",
    "list_optimizer = []\n",
    "for i in range(len(optimizer_scheme)):\n",
    "    optimizer_scheme_use = optimizer_scheme[i]\n",
    "    print('***********For the optimizer_scheme', optimizer_scheme[i], '***********')\n",
    "    model = Sequential()\n",
    "    model.add(Dense(64, input_dim=n, activation=activation_func_use))\n",
    "    model.add(Dense(16, activation=activation_func_use))\n",
    "    model.add(Dense(1, activation=activation_func_use))\n",
    "\n",
    "    X_train, X_test, y_train, y_test = train_test_split(X, y, test_size=0.2, )\n",
    "\n",
    "    model.compile(loss=loss_func_use, optimizer=optimizer_scheme_use, metrics=['binary_accuracy'])\n",
    "\n",
    "    model.fit(X_train, y_train, epochs=10, batch_size=100,verbose = 0)\n",
    "\n",
    "    loss_and_metrics = model.evaluate(X_test, y_test, batch_size=128)\n",
    "\n",
    "    print('For attack1: The loss is', loss_and_metrics[0], ', the accuracy is', loss_and_metrics[1])\n",
    "    list_optimizer.append([optimizer_scheme_use,loss_and_metrics[1]])"
   ]
  },
  {
   "cell_type": "code",
   "execution_count": 24,
   "metadata": {},
   "outputs": [
    {
     "data": {
      "image/png": "[encoded data removed]",
      "text/plain": [
       "<Figure size 432x288 with 1 Axes>"
      ]
     },
     "metadata": {
      "needs_background": "light"
     },
     "output_type": "display_data"
    }
   ],
   "source": [
    "for i in range(len(list_optimizer)):\n",
    "    plt.scatter(i,list_optimizer[i][1],label = list_optimizer[i][0])\n",
    "    plt.legend(loc='best')    \n",
    "plt.xlabel(\"optimizer function\")\n",
    "plt.ylabel(\"accurency\")\n",
    "plt.show()\n"
   ]
  },
  {
   "cell_type": "code",
   "execution_count": null,
   "metadata": {},
   "outputs": [],
   "source": []
  },
  {
   "cell_type": "code",
   "execution_count": null,
   "metadata": {},
   "outputs": [],
   "source": []
  }
 ],
 "metadata": {
  "kernelspec": {
   "display_name": "Python 3",
   "language": "python",
   "name": "python3"
  },
  "language_info": {
   "codemirror_mode": {
    "name": "ipython",
    "version": 3
   },
   "file_extension": ".py",
   "mimetype": "text/x-python",
   "name": "python",
   "nbconvert_exporter": "python",
   "pygments_lexer": "ipython3",
   "version": "3.7.3"
  }
 },
 "nbformat": 4,
 "nbformat_minor": 2
}
